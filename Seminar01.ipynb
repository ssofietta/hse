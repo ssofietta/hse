{
 "cells": [
  {
   "cell_type": "markdown",
   "metadata": {},
   "source": [
    "# Seminar 1\n",
    "## Solutions"
   ]
  },
  {
   "cell_type": "code",
   "execution_count": 1,
   "metadata": {},
   "outputs": [
    {
     "data": {
      "text/plain": [
       "4"
      ]
     },
     "execution_count": 1,
     "metadata": {},
     "output_type": "execute_result"
    }
   ],
   "source": [
    "2 + 2"
   ]
  },
  {
   "cell_type": "code",
   "execution_count": 2,
   "metadata": {},
   "outputs": [
    {
     "data": {
      "text/plain": [
       "9"
      ]
     },
     "execution_count": 2,
     "metadata": {},
     "output_type": "execute_result"
    }
   ],
   "source": [
    "3**2"
   ]
  },
  {
   "cell_type": "markdown",
   "metadata": {},
   "source": [
    "## Task 1"
   ]
  },
  {
   "cell_type": "code",
   "execution_count": 3,
   "metadata": {},
   "outputs": [
    {
     "data": {
      "text/plain": [
       "-72767.5197062952"
      ]
     },
     "execution_count": 3,
     "metadata": {},
     "output_type": "execute_result"
    }
   ],
   "source": [
    "# Task 1: Net Present Value\n",
    "# Project 1 (n = 3)\n",
    "\n",
    "-100000 + 10000/(1+0.05)**1 + 10000/(1+0.05)**2 + 10000/(1+0.05)**3"
   ]
  },
  {
   "cell_type": "markdown",
   "metadata": {},
   "source": [
    "$$NPV = -Inv + CF\\cdot\\frac{1-(1+r)^{-n}}{r}$$"
   ]
  },
  {
   "cell_type": "markdown",
   "metadata": {},
   "source": [
    "$$NPV = -Inv + CF\\cdot\\frac{1-(1+r)^{-n}}{r}$$"
   ]
  },
  {
   "cell_type": "code",
   "execution_count": 4,
   "metadata": {},
   "outputs": [
    {
     "data": {
      "text/plain": [
       "-72767.5197062952"
      ]
     },
     "execution_count": 4,
     "metadata": {},
     "output_type": "execute_result"
    }
   ],
   "source": [
    "-100000+10000*(1-(1+0.05)**(-3))/0.05"
   ]
  },
  {
   "cell_type": "code",
   "execution_count": 5,
   "metadata": {},
   "outputs": [
    {
     "name": "stdout",
     "output_type": "stream",
     "text": [
      "0\n",
      "1\n",
      "2\n",
      "3\n",
      "4\n"
     ]
    }
   ],
   "source": [
    "# Loops\n",
    "for i in range(5):\n",
    "    print(i)"
   ]
  },
  {
   "cell_type": "code",
   "execution_count": 6,
   "metadata": {},
   "outputs": [
    {
     "data": {
      "text/plain": [
       "[0, 1, 2, 3, 4]"
      ]
     },
     "execution_count": 6,
     "metadata": {},
     "output_type": "execute_result"
    }
   ],
   "source": [
    "# Loop & List\n",
    "[i for i in range(5)]"
   ]
  },
  {
   "cell_type": "code",
   "execution_count": 7,
   "metadata": {},
   "outputs": [
    {
     "data": {
      "text/plain": [
       "[0, 2, 4, 6, 8]"
      ]
     },
     "execution_count": 7,
     "metadata": {},
     "output_type": "execute_result"
    }
   ],
   "source": [
    "[i*2 for i in range(5)]"
   ]
  },
  {
   "cell_type": "code",
   "execution_count": 8,
   "metadata": {},
   "outputs": [
    {
     "name": "stdout",
     "output_type": "stream",
     "text": [
      "9523.809523809523\n",
      "9070.2947845805\n",
      "8638.37598531476\n"
     ]
    }
   ],
   "source": [
    "# PV (print output)\n",
    "for i in range(3):\n",
    "    print(10000/(1+0.05)**(i+1))"
   ]
  },
  {
   "cell_type": "code",
   "execution_count": 9,
   "metadata": {},
   "outputs": [
    {
     "name": "stdout",
     "output_type": "stream",
     "text": [
      "9523.809523809523\n",
      "9070.2947845805\n",
      "8638.37598531476\n"
     ]
    }
   ],
   "source": [
    "for i in range(1, 4):\n",
    "    print(10000/(1 + 0.05)**i)"
   ]
  },
  {
   "cell_type": "code",
   "execution_count": 10,
   "metadata": {},
   "outputs": [],
   "source": [
    "# List Comprehension\n",
    "PV = [10000/(1+0.05)**(i+1) for i in range(3)]"
   ]
  },
  {
   "cell_type": "code",
   "execution_count": 11,
   "metadata": {},
   "outputs": [
    {
     "data": {
      "text/plain": [
       "-72767.51970629522"
      ]
     },
     "execution_count": 11,
     "metadata": {},
     "output_type": "execute_result"
    }
   ],
   "source": [
    "-100000 + sum(PV)"
   ]
  },
  {
   "cell_type": "code",
   "execution_count": 12,
   "metadata": {},
   "outputs": [],
   "source": [
    "# Define Function\n",
    "def NPV(Investments, CF, Periods, Rate):\n",
    "    PV = [CF/(1+Rate)**(i+1) for i in range(Periods)]\n",
    "    return -Investments + sum(PV)"
   ]
  },
  {
   "cell_type": "code",
   "execution_count": 13,
   "metadata": {},
   "outputs": [],
   "source": [
    "proj1 = NPV(100000, 10000, 20, 0.05)\n",
    "proj2 = NPV(100000, 11000, 15, 0.04)\n",
    "proj3 = NPV(100000, 20000, 8, 0.06)\n",
    "proj4 = NPV(100000, 50000, 3, 0.1)"
   ]
  },
  {
   "cell_type": "code",
   "execution_count": 14,
   "metadata": {},
   "outputs": [
    {
     "name": "stdout",
     "output_type": "stream",
     "text": [
      "24622.103425399822\n",
      "22302.261753849307\n",
      "24195.87621939105\n",
      "24342.599549211096\n"
     ]
    }
   ],
   "source": [
    "for i in [proj1, proj2, proj3, proj4]:\n",
    "    print(i)"
   ]
  },
  {
   "cell_type": "code",
   "execution_count": 15,
   "metadata": {},
   "outputs": [
    {
     "data": {
      "text/plain": [
       "[-72767.51970629522, 53724.51026882834]"
      ]
     },
     "execution_count": 15,
     "metadata": {},
     "output_type": "execute_result"
    }
   ],
   "source": [
    "a = NPV(100000, 10000, 3, 0.05)\n",
    "b = NPV(100000, 10000, 30, 0.05)\n",
    "\n",
    "[a, b]"
   ]
  },
  {
   "cell_type": "code",
   "execution_count": 16,
   "metadata": {},
   "outputs": [],
   "source": [
    "# The same with print output\n",
    "def NPV2(Investments, CF, Rate, n):\n",
    "    PV = [CF/(1 + Rate)**i for i in range(1, n+1)]\n",
    "    print(-Investments + sum(PV))"
   ]
  },
  {
   "cell_type": "code",
   "execution_count": 17,
   "metadata": {},
   "outputs": [
    {
     "name": "stdout",
     "output_type": "stream",
     "text": [
      "-72767.51970629522\n",
      "53724.51026882834\n"
     ]
    },
    {
     "data": {
      "text/plain": [
       "[None, None]"
      ]
     },
     "execution_count": 17,
     "metadata": {},
     "output_type": "execute_result"
    }
   ],
   "source": [
    "c = NPV2(100000, 10000, 0.05, 3)\n",
    "d = NPV2(100000, 10000, 0.05, 30)\n",
    "\n",
    "[c, d]"
   ]
  },
  {
   "cell_type": "code",
   "execution_count": 18,
   "metadata": {},
   "outputs": [
    {
     "name": "stdout",
     "output_type": "stream",
     "text": [
      "24622.103425399822\n",
      "22302.261753849307\n",
      "24195.87621939105\n",
      "24342.599549211096\n"
     ]
    }
   ],
   "source": [
    "NPV2(100000, 10000, 0.05, 20)\n",
    "NPV2(100000, 11000, 0.04, 15)\n",
    "NPV2(100000, 20000, 0.06, 8)\n",
    "NPV2(100000, 50000, 0.1, 3)"
   ]
  },
  {
   "cell_type": "code",
   "execution_count": 19,
   "metadata": {},
   "outputs": [],
   "source": [
    "# The same with .append() method\n",
    "abc = []\n",
    "\n",
    "for i in range(5):\n",
    "    abc.append(i)"
   ]
  },
  {
   "cell_type": "code",
   "execution_count": 20,
   "metadata": {},
   "outputs": [
    {
     "data": {
      "text/plain": [
       "[0, 1, 2, 3, 4]"
      ]
     },
     "execution_count": 20,
     "metadata": {},
     "output_type": "execute_result"
    }
   ],
   "source": [
    "abc"
   ]
  },
  {
   "cell_type": "code",
   "execution_count": 21,
   "metadata": {},
   "outputs": [
    {
     "data": {
      "text/plain": [
       "[24622.103425399822, 22302.261753849307, 24195.87621939105, 24342.599549211096]"
      ]
     },
     "execution_count": 21,
     "metadata": {},
     "output_type": "execute_result"
    }
   ],
   "source": [
    "# Indexing List\n",
    "projects = [proj1, proj2, proj3, proj4]\n",
    "projects"
   ]
  },
  {
   "cell_type": "code",
   "execution_count": 22,
   "metadata": {},
   "outputs": [
    {
     "data": {
      "text/plain": [
       "[24622.1, 22302.26, 24195.88, 24342.6]"
      ]
     },
     "execution_count": 22,
     "metadata": {},
     "output_type": "execute_result"
    }
   ],
   "source": [
    "# Round them and overwrite\n",
    "projects = [round(i, 2) for i in projects]\n",
    "projects"
   ]
  },
  {
   "cell_type": "code",
   "execution_count": 23,
   "metadata": {},
   "outputs": [
    {
     "data": {
      "text/plain": [
       "24622.1"
      ]
     },
     "execution_count": 23,
     "metadata": {},
     "output_type": "execute_result"
    }
   ],
   "source": [
    "projects[0]"
   ]
  },
  {
   "cell_type": "code",
   "execution_count": 24,
   "metadata": {},
   "outputs": [
    {
     "data": {
      "text/plain": [
       "24342.6"
      ]
     },
     "execution_count": 24,
     "metadata": {},
     "output_type": "execute_result"
    }
   ],
   "source": [
    "projects[-1]"
   ]
  },
  {
   "cell_type": "code",
   "execution_count": 25,
   "metadata": {},
   "outputs": [
    {
     "data": {
      "text/plain": [
       "[22302.26, 24195.88, 24342.6]"
      ]
     },
     "execution_count": 25,
     "metadata": {},
     "output_type": "execute_result"
    }
   ],
   "source": [
    "projects[1:]"
   ]
  },
  {
   "cell_type": "code",
   "execution_count": 26,
   "metadata": {},
   "outputs": [
    {
     "data": {
      "text/plain": [
       "[22302.26, 24195.88]"
      ]
     },
     "execution_count": 26,
     "metadata": {},
     "output_type": "execute_result"
    }
   ],
   "source": [
    "projects[1:3]"
   ]
  },
  {
   "cell_type": "code",
   "execution_count": 27,
   "metadata": {},
   "outputs": [
    {
     "data": {
      "text/plain": [
       "[24622.1, 22302.26]"
      ]
     },
     "execution_count": 27,
     "metadata": {},
     "output_type": "execute_result"
    }
   ],
   "source": [
    "projects[:2]"
   ]
  },
  {
   "cell_type": "markdown",
   "metadata": {},
   "source": [
    "## Task 2"
   ]
  },
  {
   "cell_type": "code",
   "execution_count": 28,
   "metadata": {},
   "outputs": [],
   "source": [
    "# Set up prices\n",
    "prices = [45, 24, 35, 31, 40, 38, 11]"
   ]
  },
  {
   "cell_type": "code",
   "execution_count": 29,
   "metadata": {},
   "outputs": [
    {
     "data": {
      "text/plain": [
       "7"
      ]
     },
     "execution_count": 29,
     "metadata": {},
     "output_type": "execute_result"
    }
   ],
   "source": [
    "# Number of elements (length)\n",
    "len(prices)"
   ]
  },
  {
   "cell_type": "code",
   "execution_count": 30,
   "metadata": {},
   "outputs": [
    {
     "name": "stdout",
     "output_type": "stream",
     "text": [
      "45\n",
      "24\n",
      "35\n",
      "31\n",
      "40\n",
      "38\n"
     ]
    }
   ],
   "source": [
    "# Find potential buy prices\n",
    "for i in range(len(prices) - 1):\n",
    "    print(prices[i])"
   ]
  },
  {
   "cell_type": "code",
   "execution_count": 31,
   "metadata": {},
   "outputs": [
    {
     "name": "stdout",
     "output_type": "stream",
     "text": [
      "[24, 35, 31, 40, 38, 11]\n",
      "[35, 31, 40, 38, 11]\n",
      "[31, 40, 38, 11]\n",
      "[40, 38, 11]\n",
      "[38, 11]\n",
      "[11]\n"
     ]
    }
   ],
   "source": [
    "# Find lists with potential sell prices at each stage\n",
    "for i in range(len(prices) - 1):\n",
    "    print(prices[(i + 1):])"
   ]
  },
  {
   "cell_type": "code",
   "execution_count": 32,
   "metadata": {},
   "outputs": [
    {
     "name": "stdout",
     "output_type": "stream",
     "text": [
      "[-21, -10, -14, -5, -7, -34]\n",
      "[11, 7, 16, 14, -13]\n",
      "[-4, 5, 3, -24]\n",
      "[9, 7, -20]\n",
      "[-2, -29]\n",
      "[-27]\n"
     ]
    }
   ],
   "source": [
    "# Substract buy price from all potential sell prices at each stage\n",
    "for i in range(len(prices) - 1):\n",
    "    buy = prices[i]\n",
    "    sell = prices[(i + 1):]\n",
    "    result = [j - buy for j in sell]\n",
    "    print(result)"
   ]
  },
  {
   "cell_type": "code",
   "execution_count": 33,
   "metadata": {},
   "outputs": [
    {
     "name": "stdout",
     "output_type": "stream",
     "text": [
      "-5\n",
      "16\n",
      "5\n",
      "9\n",
      "-2\n",
      "-27\n"
     ]
    }
   ],
   "source": [
    "# Find maximum differences at each stage\n",
    "for i in range(len(prices) - 1):\n",
    "    buy = prices[i]\n",
    "    sell = prices[(i + 1):]\n",
    "    result = [j - buy for j in sell]\n",
    "    print(max(result))"
   ]
  },
  {
   "cell_type": "code",
   "execution_count": 34,
   "metadata": {},
   "outputs": [
    {
     "data": {
      "text/plain": [
       "16"
      ]
     },
     "execution_count": 34,
     "metadata": {},
     "output_type": "execute_result"
    }
   ],
   "source": [
    "# Store results inside new list and find out the maximum\n",
    "out = []\n",
    "\n",
    "for i in range(len(prices) - 1):\n",
    "    buy = prices[i]\n",
    "    sell = prices[(i + 1):]\n",
    "    result = [j - buy for j in sell]\n",
    "    out.append(max(result))\n",
    "\n",
    "# Answer\n",
    "max(out)"
   ]
  }
 ],
 "metadata": {
  "kernelspec": {
   "display_name": "Python 3",
   "language": "python",
   "name": "python3"
  },
  "language_info": {
   "codemirror_mode": {
    "name": "ipython",
    "version": 3
   },
   "file_extension": ".py",
   "mimetype": "text/x-python",
   "name": "python",
   "nbconvert_exporter": "python",
   "pygments_lexer": "ipython3",
   "version": "3.7.1"
  }
 },
 "nbformat": 4,
 "nbformat_minor": 2
}
