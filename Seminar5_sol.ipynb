{
 "cells": [
  {
   "cell_type": "markdown",
   "metadata": {},
   "source": [
    "# Seminar 5\n",
    "## Sample Solutions"
   ]
  },
  {
   "cell_type": "markdown",
   "metadata": {},
   "source": [
    "If you download file `vacancies.json` on your computer, place it in the same folder with your `*.py` or `*.ipynb` file. Otherwise, you can directly use the full path to your file as follows:\n",
    "* Windows (escape each backslash twice): `\"C:\\\\Users\\\\test\\\\Desktop\\\\vacancies.json\"`\n",
    "* Mac OS: `\"/Users/test/Desktop/vacancies.json\"`\n",
    "\n",
    "If you obtain error `'charmap'` - this is the sign, that your default OS encoding cannot recognize Cyrillic letters, so use an option `encoding = 'UTF-8'`, that can capture Cyrillic script. [More about UTF-8](https://en.wikipedia.org/wiki/UTF-8).\n",
    "\n",
    "**Example**:\n",
    "```python\n",
    "with open(\"C:\\\\Users\\\\test\\\\Desktop\\\\vacancies.json\", \"r\", encoding = 'UTF-8') as read_file:\n",
    "    data = json.load(read_file)\n",
    "```"
   ]
  },
  {
   "cell_type": "code",
   "execution_count": 1,
   "metadata": {},
   "outputs": [],
   "source": [
    "# Using Requests library to download source page text from Webpage\n",
    "import json\n",
    "import requests\n",
    "\n",
    "url = 'https://api.hh.ru/vacancies?per_page=100&locale=EN'\n",
    "\n",
    "file = requests.get(url)\n",
    "data = json.loads(file.text)"
   ]
  },
  {
   "cell_type": "code",
   "execution_count": 2,
   "metadata": {},
   "outputs": [],
   "source": [
    "# Store vacancies' sample\n",
    "vacancies = data['items']"
   ]
  },
  {
   "cell_type": "code",
   "execution_count": 3,
   "metadata": {},
   "outputs": [
    {
     "data": {
      "text/plain": [
       "100"
      ]
     },
     "execution_count": 3,
     "metadata": {},
     "output_type": "execute_result"
    }
   ],
   "source": [
    "# 100 vacancies in the sample\n",
    "len(vacancies)"
   ]
  },
  {
   "cell_type": "code",
   "execution_count": 4,
   "metadata": {},
   "outputs": [
    {
     "data": {
      "text/plain": [
       "{'id': '4095490',\n",
       " 'premium': True,\n",
       " 'name': 'Водитель-международник',\n",
       " 'department': None,\n",
       " 'has_test': False,\n",
       " 'response_letter_required': False,\n",
       " 'area': {'id': '1002',\n",
       "  'name': 'Minsk',\n",
       "  'url': 'https://api.hh.ru/areas/1002?locale=EN'},\n",
       " 'salary': {'from': 2500, 'to': None, 'currency': 'BYR', 'gross': False},\n",
       " 'type': {'id': 'open', 'name': 'Open'},\n",
       " 'address': {'city': 'Минск',\n",
       "  'street': 'Автозаводская линия',\n",
       "  'building': 'метро Могилевская',\n",
       "  'description': None,\n",
       "  'lat': 53.861798,\n",
       "  'lng': 27.673986,\n",
       "  'raw': 'Минск, Автозаводская линия, метро Могилевская',\n",
       "  'metro': {'station_name': 'Mogilevskaya',\n",
       "   'line_name': 'Avtozavodskaya',\n",
       "   'station_id': '63.429',\n",
       "   'line_id': '63',\n",
       "   'lat': 53.861862,\n",
       "   'lng': 27.674381},\n",
       "  'metro_stations': [{'station_name': 'Mogilevskaya',\n",
       "    'line_name': 'Avtozavodskaya',\n",
       "    'station_id': '63.429',\n",
       "    'line_id': '63',\n",
       "    'lat': 53.861862,\n",
       "    'lng': 27.674381}],\n",
       "  'id': '408525'},\n",
       " 'response_url': None,\n",
       " 'sort_point_distance': None,\n",
       " 'employer': {'id': '745391',\n",
       "  'name': 'APS',\n",
       "  'url': 'https://api.hh.ru/employers/745391?locale=EN',\n",
       "  'alternate_url': 'https://hh.ru/employer/745391',\n",
       "  'logo_urls': {'90': 'https://hhcdn.ru/employer-logo/3273540.png',\n",
       "   '240': 'https://hhcdn.ru/employer-logo/3273541.png',\n",
       "   'original': 'https://hhcdn.ru/employer-logo-original/708106.png'},\n",
       "  'vacancies_url': 'https://api.hh.ru/vacancies?employer_id=745391&locale=EN',\n",
       "  'trusted': True},\n",
       " 'published_at': '2020-10-08T09:37:24+0300',\n",
       " 'created_at': '2020-10-08T09:37:24+0300',\n",
       " 'archived': False,\n",
       " 'apply_alternate_url': 'https://hh.ru/applicant/vacancy_response?vacancyId=4095490',\n",
       " 'insider_interview': None,\n",
       " 'url': 'https://api.hh.ru/vacancies/4095490?locale=EN&host=hh.ru',\n",
       " 'alternate_url': 'https://hh.ru/vacancy/4095490',\n",
       " 'relations': [],\n",
       " 'snippet': {'requirement': 'Опыт работы по категории &quot;С&quot; - от 2 лет; &quot;СЕ&quot;, &quot;DE&quot; - от 1 года. Наши преимущества:',\n",
       "  'responsibility': 'Продление документов за счёт компании (свидетельство водителя-международника, ADR). Сопровождение водителя в рейсе 24 часа высококвалифицированными специалистами. Обучение международным перевозкам. '},\n",
       " 'contacts': None,\n",
       " 'schedule': {'id': 'shift', 'name': 'Shift schedule'},\n",
       " 'working_days': [],\n",
       " 'working_time_intervals': [],\n",
       " 'working_time_modes': [],\n",
       " 'accept_temporary': False}"
      ]
     },
     "execution_count": 4,
     "metadata": {},
     "output_type": "execute_result"
    }
   ],
   "source": [
    "# The first vacancy\n",
    "vacancies[0]"
   ]
  },
  {
   "cell_type": "code",
   "execution_count": 5,
   "metadata": {},
   "outputs": [
    {
     "data": {
      "text/plain": [
       "[{'from': 2500, 'to': None, 'currency': 'BYR', 'gross': False},\n",
       " {'from': 45000, 'to': 150000, 'currency': 'RUR', 'gross': True},\n",
       " {'from': 80000, 'to': None, 'currency': 'RUR', 'gross': True}]"
      ]
     },
     "execution_count": 5,
     "metadata": {},
     "output_type": "execute_result"
    }
   ],
   "source": [
    "# Skip empty 'salary' fields (automatically recognized with None)\n",
    "# Display 3 entries\n",
    "[i['salary'] for i in vacancies if i['salary'] is not None][:3]"
   ]
  },
  {
   "cell_type": "code",
   "execution_count": 6,
   "metadata": {},
   "outputs": [
    {
     "data": {
      "text/plain": [
       "76"
      ]
     },
     "execution_count": 6,
     "metadata": {},
     "output_type": "execute_result"
    }
   ],
   "source": [
    "# Now we obtain less number of observations (as we do not consider empty 'salary' fields)\n",
    "len([i['salary'] for i in vacancies if i['salary'] is not None])"
   ]
  },
  {
   "cell_type": "code",
   "execution_count": 7,
   "metadata": {},
   "outputs": [
    {
     "data": {
      "text/plain": [
       "[('Minsk', {'from': 2500, 'to': None, 'currency': 'BYR', 'gross': False}),\n",
       " ('Saint Petersburg',\n",
       "  {'from': 45000, 'to': 150000, 'currency': 'RUR', 'gross': True}),\n",
       " ('Tula', {'from': 80000, 'to': None, 'currency': 'RUR', 'gross': True})]"
      ]
     },
     "execution_count": 7,
     "metadata": {},
     "output_type": "execute_result"
    }
   ],
   "source": [
    "# Store both name of the city and salary in tuple\n",
    "# Display 3 entries\n",
    "[(i['area']['name'], i['salary']) for i in vacancies if i['salary'] is not None][:3]"
   ]
  },
  {
   "cell_type": "code",
   "execution_count": 8,
   "metadata": {},
   "outputs": [
    {
     "data": {
      "text/plain": [
       "[('Saint Petersburg',\n",
       "  {'from': 45000, 'to': 150000, 'currency': 'RUR', 'gross': True}),\n",
       " ('Tula', {'from': 80000, 'to': None, 'currency': 'RUR', 'gross': True}),\n",
       " ('Krasnodar',\n",
       "  {'from': 70000, 'to': 250000, 'currency': 'RUR', 'gross': False})]"
      ]
     },
     "execution_count": 8,
     "metadata": {},
     "output_type": "execute_result"
    }
   ],
   "source": [
    "# Filter by currency (that is stored inside 'salary' field)\n",
    "# Do not forget again to skip None\n",
    "# Display 3 entries\n",
    "[(i['area']['name'], i['salary']) for i in vacancies if i['salary'] is not None and i['salary']['currency'] == 'RUR'][:3]"
   ]
  },
  {
   "cell_type": "code",
   "execution_count": 9,
   "metadata": {},
   "outputs": [
    {
     "data": {
      "text/plain": [
       "74"
      ]
     },
     "execution_count": 9,
     "metadata": {},
     "output_type": "execute_result"
    }
   ],
   "source": [
    "# Thus, number of observations again less\n",
    "len([(i['area']['name'], i['salary']) for i in vacancies if i['salary'] is not None and i['salary']['currency'] == 'RUR'])"
   ]
  },
  {
   "cell_type": "code",
   "execution_count": 10,
   "metadata": {},
   "outputs": [],
   "source": [
    "# Use mymean function, that takes as input the list with numbers and None objects\n",
    "def mymean(x):\n",
    "    x = [i for i in x if i is not None]\n",
    "    return sum(x) / len(x)"
   ]
  },
  {
   "cell_type": "code",
   "execution_count": 11,
   "metadata": {},
   "outputs": [
    {
     "name": "stdout",
     "output_type": "stream",
     "text": [
      "150.0\n",
      "100.0\n",
      "200.0\n"
     ]
    }
   ],
   "source": [
    "# Test several examples\n",
    "print(mymean([100, 200]))\n",
    "print(mymean([100, None]))\n",
    "print(mymean([None, 200]))"
   ]
  },
  {
   "cell_type": "code",
   "execution_count": 12,
   "metadata": {},
   "outputs": [],
   "source": [
    "# Redefine mymean function with 'gross' parameter (the data has 'gross' field for each vacancy)\n",
    "# By default the 'gross' option is False\n",
    "def mymean(x, gross = False):\n",
    "    x = [i for i in x if i is not None]\n",
    "    if gross:\n",
    "        return round((sum(x) / len(x)) * 0.87, 1)\n",
    "    else:\n",
    "        return round((sum(x) / len(x)), 1)"
   ]
  },
  {
   "cell_type": "code",
   "execution_count": 13,
   "metadata": {},
   "outputs": [
    {
     "name": "stdout",
     "output_type": "stream",
     "text": [
      "150.0\n",
      "150.0\n",
      "130.5\n",
      "100.0\n",
      "87.0\n"
     ]
    }
   ],
   "source": [
    "# Test again\n",
    "print(mymean([100, 200]))\n",
    "print(mymean([100, 200], gross = False))\n",
    "print(mymean([100, 200], gross = True))\n",
    "print(mymean([100, None], gross = False))\n",
    "print(mymean([100, None], gross = True))"
   ]
  },
  {
   "cell_type": "code",
   "execution_count": 14,
   "metadata": {},
   "outputs": [
    {
     "data": {
      "text/plain": [
       "150.0"
      ]
     },
     "execution_count": 14,
     "metadata": {},
     "output_type": "execute_result"
    }
   ],
   "source": [
    "# Actually, again not all data etries have True or False values inside 'gross' field\n",
    "# Somewhere it is None\n",
    "# So, let's assume that the salary is NET if 'gross' is None\n",
    "# Test again the behavior\n",
    "mymean([100, 200], gross = None)"
   ]
  },
  {
   "cell_type": "code",
   "execution_count": 15,
   "metadata": {},
   "outputs": [
    {
     "data": {
      "text/plain": [
       "[('Saint Petersburg', 84825.0), ('Tula', 69600.0), ('Krasnodar', 160000.0)]"
      ]
     },
     "execution_count": 15,
     "metadata": {},
     "output_type": "execute_result"
    }
   ],
   "source": [
    "# Then just place this function instead of i['salary']\n",
    "# Display 3 entries\n",
    "[(i['area']['name'], mymean([i['salary']['from'], i['salary']['to']], gross = i['salary']['gross'])) for i in vacancies if i['salary'] is not None and i['salary']['currency'] == 'RUR'][:3]"
   ]
  },
  {
   "cell_type": "code",
   "execution_count": 16,
   "metadata": {},
   "outputs": [],
   "source": [
    "# Store the result in the variable\n",
    "salary = [(i['area']['name'], mymean([i['salary']['from'], i['salary']['to']], gross = i['salary']['gross'])) for i in vacancies if i['salary'] is not None and i['salary']['currency'] == 'RUR']"
   ]
  },
  {
   "cell_type": "code",
   "execution_count": 17,
   "metadata": {},
   "outputs": [
    {
     "data": {
      "text/plain": [
       "{'Adler',\n",
       " 'Astrakhan',\n",
       " 'Barnaul',\n",
       " 'Chelyabinsk',\n",
       " 'Cherepovets',\n",
       " 'Izhevsk',\n",
       " 'Kazan',\n",
       " 'Kemerovo',\n",
       " 'Krasnodar',\n",
       " 'Lipetsk',\n",
       " 'Magnitogorsk',\n",
       " 'Miass',\n",
       " 'Moscow',\n",
       " 'Naberezhnye Chelny',\n",
       " 'Nizhnevartovsk',\n",
       " 'Nizhny Tagil',\n",
       " 'Norilsk',\n",
       " 'Rostov-na-Donu',\n",
       " 'Saint Petersburg',\n",
       " 'Sochi',\n",
       " 'Surgut',\n",
       " 'Tolyatti',\n",
       " 'Tula',\n",
       " 'Ufa',\n",
       " 'Ulyanovsk',\n",
       " 'Ussuriysk',\n",
       " 'Vladimir',\n",
       " 'Vladivostok',\n",
       " 'Volgograd',\n",
       " 'Voronezh',\n",
       " 'Yekaterinburg'}"
      ]
     },
     "execution_count": 17,
     "metadata": {},
     "output_type": "execute_result"
    }
   ],
   "source": [
    "# Extract unique cities from the obtained dataset\n",
    "cities = set([i[0] for i in salary])\n",
    "cities"
   ]
  },
  {
   "cell_type": "code",
   "execution_count": 18,
   "metadata": {},
   "outputs": [
    {
     "data": {
      "text/plain": [
       "[('Miass', 23490.0),\n",
       " ('Tula', 43235.0),\n",
       " ('Ufa', 110461.5),\n",
       " ('Saint Petersburg', 54172.0),\n",
       " ('Norilsk', 27840.0),\n",
       " ('Barnaul', 20880.0),\n",
       " ('Kazan', 24360.0),\n",
       " ('Sochi', 155557.1),\n",
       " ('Rostov-na-Donu', 33930.0),\n",
       " ('Volgograd', 16240.0),\n",
       " ('Kemerovo', 21750.0),\n",
       " ('Lipetsk', 44370.0),\n",
       " ('Nizhnevartovsk', 34800.0),\n",
       " ('Krasnodar', 80867.1),\n",
       " ('Astrakhan', 21750.0),\n",
       " ('Yekaterinburg', 30450.0),\n",
       " ('Cherepovets', 43500.0),\n",
       " ('Voronezh', 51100.0),\n",
       " ('Chelyabinsk', 23490.0),\n",
       " ('Ulyanovsk', 22620.0),\n",
       " ('Vladivostok', 46500.0),\n",
       " ('Surgut', 30450.0),\n",
       " ('Moscow', 43500.0),\n",
       " ('Tolyatti', 57500.0),\n",
       " ('Nizhny Tagil', 30450.0),\n",
       " ('Magnitogorsk', 23490.0),\n",
       " ('Izhevsk', 34680.0),\n",
       " ('Naberezhnye Chelny', 65250.0),\n",
       " ('Adler', 130500.0),\n",
       " ('Ussuriysk', 36500.0),\n",
       " ('Vladimir', 56550.0)]"
      ]
     },
     "execution_count": 18,
     "metadata": {},
     "output_type": "execute_result"
    }
   ],
   "source": [
    "# Use two for loops to find out the mean salary\n",
    "[(i, mymean([j[1] for j in salary if j[0] == i])) for i in cities]"
   ]
  },
  {
   "cell_type": "code",
   "execution_count": 19,
   "metadata": {},
   "outputs": [
    {
     "data": {
      "text/plain": [
       "[('Miass', 23490.0, 23490.0, 23490.0),\n",
       " ('Tula', 43235.0, 8700.0, 69600.0),\n",
       " ('Ufa', 110461.5, 40000.0, 150000.0),\n",
       " ('Saint Petersburg', 54172.0, 29841.0, 84825.0),\n",
       " ('Norilsk', 27840.0, 27840.0, 27840.0),\n",
       " ('Barnaul', 20880.0, 20880.0, 20880.0),\n",
       " ('Kazan', 24360.0, 24360.0, 24360.0),\n",
       " ('Sochi', 155557.1, 58725.0, 282750.0),\n",
       " ('Rostov-na-Donu', 33930.0, 33930.0, 33930.0),\n",
       " ('Volgograd', 16240.0, 13920.0, 20880.0),\n",
       " ('Kemerovo', 21750.0, 21750.0, 21750.0),\n",
       " ('Lipetsk', 44370.0, 44370.0, 44370.0),\n",
       " ('Nizhnevartovsk', 34800.0, 34800.0, 34800.0),\n",
       " ('Krasnodar', 80867.1, 22794.0, 160000.0),\n",
       " ('Astrakhan', 21750.0, 21750.0, 21750.0),\n",
       " ('Yekaterinburg', 30450.0, 30450.0, 30450.0),\n",
       " ('Cherepovets', 43500.0, 43500.0, 43500.0),\n",
       " ('Voronezh', 51100.0, 50000.0, 52200.0),\n",
       " ('Chelyabinsk', 23490.0, 23490.0, 23490.0),\n",
       " ('Ulyanovsk', 22620.0, 22620.0, 22620.0),\n",
       " ('Vladivostok', 46500.0, 46500.0, 46500.0),\n",
       " ('Surgut', 30450.0, 30450.0, 30450.0),\n",
       " ('Moscow', 43500.0, 30450.0, 60900.0),\n",
       " ('Tolyatti', 57500.0, 57500.0, 57500.0),\n",
       " ('Nizhny Tagil', 30450.0, 30450.0, 30450.0),\n",
       " ('Magnitogorsk', 23490.0, 23490.0, 23490.0),\n",
       " ('Izhevsk', 34680.0, 24360.0, 45000.0),\n",
       " ('Naberezhnye Chelny', 65250.0, 65250.0, 65250.0),\n",
       " ('Adler', 130500.0, 130500.0, 130500.0),\n",
       " ('Ussuriysk', 36500.0, 36500.0, 36500.0),\n",
       " ('Vladimir', 56550.0, 52200.0, 60900.0)]"
      ]
     },
     "execution_count": 19,
     "metadata": {},
     "output_type": "execute_result"
    }
   ],
   "source": [
    "# Add min and max calculation for the previous step\n",
    "# And store result into new variable\n",
    "city_stats = [(i, mymean([j[1] for j in salary if j[0] == i]), min([j[1] for j in salary if j[0] == i]), max([j[1] for j in salary if j[0] == i])) for i in cities]\n",
    "city_stats"
   ]
  },
  {
   "cell_type": "code",
   "execution_count": 20,
   "metadata": {},
   "outputs": [
    {
     "data": {
      "text/plain": [
       "[('Sochi', 155557.1, 58725.0, 282750.0),\n",
       " ('Adler', 130500.0, 130500.0, 130500.0),\n",
       " ('Ufa', 110461.5, 40000.0, 150000.0),\n",
       " ('Krasnodar', 80867.1, 22794.0, 160000.0),\n",
       " ('Naberezhnye Chelny', 65250.0, 65250.0, 65250.0),\n",
       " ('Tolyatti', 57500.0, 57500.0, 57500.0),\n",
       " ('Vladimir', 56550.0, 52200.0, 60900.0),\n",
       " ('Saint Petersburg', 54172.0, 29841.0, 84825.0),\n",
       " ('Voronezh', 51100.0, 50000.0, 52200.0),\n",
       " ('Vladivostok', 46500.0, 46500.0, 46500.0)]"
      ]
     },
     "execution_count": 20,
     "metadata": {},
     "output_type": "execute_result"
    }
   ],
   "source": [
    "# Sort by mean salary\n",
    "# Return first 10 entries\n",
    "top10 = sorted(city_stats, key = lambda x: x[1], reverse = True)[:10]\n",
    "top10"
   ]
  },
  {
   "cell_type": "markdown",
   "metadata": {},
   "source": [
    "Install `cyrtranslit` library (once):\n",
    "```\n",
    "!pip install cyrtranslit\n",
    "```"
   ]
  },
  {
   "cell_type": "code",
   "execution_count": 21,
   "metadata": {},
   "outputs": [
    {
     "data": {
      "text/plain": [
       "'Privet mir!'"
      ]
     },
     "execution_count": 21,
     "metadata": {},
     "output_type": "execute_result"
    }
   ],
   "source": [
    "# Test its behavior\n",
    "import cyrtranslit\n",
    "cyrtranslit.to_latin('Привет мир!', 'ru')"
   ]
  },
  {
   "cell_type": "code",
   "execution_count": 22,
   "metadata": {},
   "outputs": [
    {
     "data": {
      "text/plain": [
       "['Sochi',\n",
       " 'Adler',\n",
       " 'Ufa',\n",
       " 'Krasnodar',\n",
       " 'Naberezhnye Chelny',\n",
       " 'Tolyatti',\n",
       " 'Vladimir',\n",
       " 'Saint Petersburg',\n",
       " 'Voronezh',\n",
       " 'Vladivostok']"
      ]
     },
     "execution_count": 22,
     "metadata": {},
     "output_type": "execute_result"
    }
   ],
   "source": [
    "# Extract TOP-10 cities\n",
    "top10cities = [i[0] for i in top10]\n",
    "top10cities"
   ]
  },
  {
   "cell_type": "code",
   "execution_count": 23,
   "metadata": {},
   "outputs": [
    {
     "data": {
      "text/plain": [
       "[('Sochi',\n",
       "  {'Агент по недвижимости',\n",
       "   'Агент по продажам недвижимости премиум-класса',\n",
       "   'Ведущий менеджер по продажам',\n",
       "   'Ведущий специалист отдела продаж новостроек',\n",
       "   'Ведущий специалист по продажам недвижимости комфорт-класса',\n",
       "   'Менеджер отдела продаж новостроек бизнес-класса',\n",
       "   'Специалист по работе с клиентами (недвижимость)'}),\n",
       " ('Adler',\n",
       "  {'Сециалист по недвижимости', 'Специалист по работе с недвижимостью'}),\n",
       " ('Ufa',\n",
       "  {'Investment advisor (Private Banking)',\n",
       "   'Агент по недвижимости',\n",
       "   'Агент по продажам недвижимости',\n",
       "   'Ведущий инженер-программист (Delphi)',\n",
       "   'Менеджер по продажам /Агент',\n",
       "   'Менеджер по продажам жилья',\n",
       "   'Менеджер по продажам и подбору жилья',\n",
       "   'Менеджер по продаже',\n",
       "   'Менеджер по продаже вторичной недвижимости (агент)',\n",
       "   'Менеджер по продаже недвижимости',\n",
       "   'Риелтор',\n",
       "   'Специалист по недвижимости',\n",
       "   'Специалист по продаже жилой недвижимости (Агент)',\n",
       "   'Специалист по продаже и поиску жилой недвижимости',\n",
       "   'Финансовый советник'}),\n",
       " ('Krasnodar',\n",
       "  {'Агент по недвижимости / Менеджер по продажам (Подразделение на ул. Красная)',\n",
       "   'Агент по недвижимости/Менеджер по продаже недвижимости',\n",
       "   'Менеджер по коммерческой недвижимости (Подразделение на ул. Красная)',\n",
       "   'Менеджер по продаже недвижимости',\n",
       "   'Менеджер по продаже недвижимости/Специалист по недвижимости (Подразделение на ул. Селезнева)',\n",
       "   'Менеджер\\xa0по\\xa0продажам\\xa0недвижимости/Риэлтор (Подразделение на ул.Ставропольская)',\n",
       "   'Продавец магазина \"Магнит\" (Комсомольский, Гидрострой, Пашковский, Центральный, ФМР, ЮМР, ЧМР)',\n",
       "   'Продавец магазина \"Магнит-Косметик\" (Комсомольский, Гидрострой, Пашковский, Центральный, ФМР, ЮМР)'}),\n",
       " ('Naberezhnye Chelny', {'Менеджер по грузоперевозкам'}),\n",
       " ('Tolyatti', {'Программист Scala / Java ( Scala / Java Developer )'}),\n",
       " ('Vladimir',\n",
       "  {'Менеджер по оптовым продажам промышленного электрооборудования',\n",
       "   'Менеджер по продажам импортной кабельно-проводниковой продукции'}),\n",
       " ('Saint Petersburg',\n",
       "  {'Investment advisor (Private Banking)',\n",
       "   'Менеджер по продажам электронных продуктов',\n",
       "   'Программист С++',\n",
       "   'Программист С/Asm',\n",
       "   'Программист графики',\n",
       "   'Разработчик, исследователь ANDROID/iOS',\n",
       "   'Системный программист',\n",
       "   'Слесарь по эксплуатации и ремонту подземных газопроводов (обходчик)',\n",
       "   'Специалист/стажер (агент) по недвижимости в агентство',\n",
       "   'Финансовый советник'}),\n",
       " ('Voronezh',\n",
       "  {'Региональный менеджер по продажам',\n",
       "   'Региональный торговый представитель'}),\n",
       " ('Vladivostok', {'Продавец-консультант'})]"
      ]
     },
     "execution_count": 23,
     "metadata": {},
     "output_type": "execute_result"
    }
   ],
   "source": [
    "# Restore all professions from TOP-10 (by celaned salary) cities\n",
    "[(i, set([j['name'] for j in vacancies if j['area']['name'] == i])) for i in top10cities]"
   ]
  },
  {
   "cell_type": "code",
   "execution_count": 24,
   "metadata": {},
   "outputs": [
    {
     "data": {
      "text/plain": [
       "[('Sochi',\n",
       "  {'Agent po nedvizhimosti',\n",
       "   'Agent po prodazham nedvizhimosti premium-klassa',\n",
       "   'Menedzher otdela prodazh novostroek biznes-klassa',\n",
       "   \"Specialist po rabote s klientami (nedvizhimost')\",\n",
       "   'Veduszij menedzher po prodazham',\n",
       "   'Veduszij specialist otdela prodazh novostroek',\n",
       "   'Veduszij specialist po prodazham nedvizhimosti komfort-klassa'}),\n",
       " ('Adler',\n",
       "  {'Secialist po nedvizhimosti', \"Specialist po rabote s nedvizhimost'ju\"}),\n",
       " ('Ufa',\n",
       "  {'Agent po nedvizhimosti',\n",
       "   'Agent po prodazham nedvizhimosti',\n",
       "   'Finansovyj sovetnik',\n",
       "   'Investment advisor (Private Banking)',\n",
       "   'Menedzher po prodazham /Agent',\n",
       "   \"Menedzher po prodazham i podboru zhil'ja\",\n",
       "   \"Menedzher po prodazham zhil'ja\",\n",
       "   'Menedzher po prodazhe',\n",
       "   'Menedzher po prodazhe nedvizhimosti',\n",
       "   'Menedzher po prodazhe vtorichnoj nedvizhimosti (agent)',\n",
       "   'Rieltor',\n",
       "   'Specialist po nedvizhimosti',\n",
       "   'Specialist po prodazhe i poisku zhiloj nedvizhimosti',\n",
       "   'Specialist po prodazhe zhiloj nedvizhimosti (Agent)',\n",
       "   'Veduszij inzhener-programmist (Delphi)'}),\n",
       " ('Krasnodar',\n",
       "  {'Agent po nedvizhimosti / Menedzher po prodazham (Podrazdelenie na ul. Krasnaja)',\n",
       "   'Agent po nedvizhimosti/Menedzher po prodazhe nedvizhimosti',\n",
       "   'Menedzher po kommercheskoj nedvizhimosti (Podrazdelenie na ul. Krasnaja)',\n",
       "   'Menedzher po prodazhe nedvizhimosti',\n",
       "   'Menedzher po prodazhe nedvizhimosti/Specialist po nedvizhimosti (Podrazdelenie na ul. Selezneva)',\n",
       "   \"Menedzher\\xa0po\\xa0prodazham\\xa0nedvizhimosti/Riehltor (Podrazdelenie na ul.Stavropol'skaja)\",\n",
       "   'Prodavec magazina \"Magnit\" (Komsomol\\'skij, Gidrostroj, Pashkovskij, Central\\'nyj, FMR, JUMR, CHMR)',\n",
       "   'Prodavec magazina \"Magnit-Kosmetik\" (Komsomol\\'skij, Gidrostroj, Pashkovskij, Central\\'nyj, FMR, JUMR)'}),\n",
       " ('Naberezhnye Chelny', {'Menedzher po gruzoperevozkam'}),\n",
       " ('Tolyatti', {'Programmist Scala / Java ( Scala / Java Developer )'}),\n",
       " ('Vladimir',\n",
       "  {'Menedzher po optovym prodazham promyshlennogo ehlektrooborudovanija',\n",
       "   \"Menedzher po prodazham importnoj kabel'no-provodnikovoj produkcii\"}),\n",
       " ('Saint Petersburg',\n",
       "  {'Finansovyj sovetnik',\n",
       "   'Investment advisor (Private Banking)',\n",
       "   'Menedzher po prodazham ehlektronnyh produktov',\n",
       "   'Programmist S++',\n",
       "   'Programmist S/Asm',\n",
       "   'Programmist grafiki',\n",
       "   \"Razrabotchik, issledovatel' ANDROID/iOS\",\n",
       "   'Sistemnyj programmist',\n",
       "   \"Slesar' po ehkspluatacii i remontu podzemnyh gazoprovodov (obhodchik)\",\n",
       "   'Specialist/stazher (agent) po nedvizhimosti v agentstvo'}),\n",
       " ('Voronezh',\n",
       "  {\"Regional'nyj menedzher po prodazham\",\n",
       "   \"Regional'nyj torgovyj predstavitel'\"}),\n",
       " ('Vladivostok', {\"Prodavec-konsul'tant\"})]"
      ]
     },
     "execution_count": 24,
     "metadata": {},
     "output_type": "execute_result"
    }
   ],
   "source": [
    "# Add transliteration (optional)\n",
    "[(i, set([cyrtranslit.to_latin(j['name'], 'ru') for j in vacancies if j['area']['name'] == i])) for i in top10cities]"
   ]
  },
  {
   "cell_type": "code",
   "execution_count": 25,
   "metadata": {},
   "outputs": [
    {
     "data": {
      "text/plain": [
       "0.76"
      ]
     },
     "execution_count": 25,
     "metadata": {},
     "output_type": "execute_result"
    }
   ],
   "source": [
    "# Share of vacacies with non empty 'salary' field\n",
    "len([i for i in vacancies if i['salary'] is not None]) / len(vacancies)"
   ]
  },
  {
   "cell_type": "code",
   "execution_count": 26,
   "metadata": {},
   "outputs": [
    {
     "data": {
      "text/plain": [
       "{'flexible', 'fullDay', 'remote', 'shift'}"
      ]
     },
     "execution_count": 26,
     "metadata": {},
     "output_type": "execute_result"
    }
   ],
   "source": [
    "# Find out types of schedule\n",
    "set([i['schedule']['id'] for i in vacancies])"
   ]
  },
  {
   "cell_type": "code",
   "execution_count": 27,
   "metadata": {},
   "outputs": [
    {
     "data": {
      "text/plain": [
       "0.54"
      ]
     },
     "execution_count": 27,
     "metadata": {},
     "output_type": "execute_result"
    }
   ],
   "source": [
    "# Calculate the share of Full-day vacancies\n",
    "len([i for i in vacancies if i['schedule']['id'] == 'fullDay']) / len(vacancies)"
   ]
  },
  {
   "cell_type": "markdown",
   "metadata": {},
   "source": [
    "## Skills"
   ]
  },
  {
   "cell_type": "code",
   "execution_count": 28,
   "metadata": {},
   "outputs": [
    {
     "data": {
      "text/plain": [
       "['менеджер по продаже недвижимости',\n",
       " 'агент по недвижимости / менеджер по продажам (подразделение на ул. красная)',\n",
       " 'менеджер по грузоперевозкам',\n",
       " 'менеджер по продаже недвижимости/специалист по недвижимости (подразделение на ул. селезнева)',\n",
       " 'агент по недвижимости/менеджер по продаже недвижимости',\n",
       " 'менеджер\\xa0по\\xa0продажам\\xa0недвижимости/риэлтор (подразделение на ул.ставропольская)',\n",
       " 'менеджер по коммерческой недвижимости (подразделение на ул. красная)',\n",
       " 'менеджер по продажам импортной кабельно-проводниковой продукции',\n",
       " 'менеджер по оптовым продажам промышленного электрооборудования',\n",
       " 'менеджер по продажам сельхозтехники',\n",
       " 'менеджер по продажам рекламы',\n",
       " 'менеджер по продаже недвижимости',\n",
       " 'менеджер по привлечению клиентов (краснооктябрьский район, тракторный район)',\n",
       " 'менеджер по привлечению клиентов',\n",
       " 'менеджер отдела продаж новостроек бизнес-класса',\n",
       " 'региональный менеджер по продажам',\n",
       " 'подработка_менеджер по работе с клиентами',\n",
       " 'менеджер телефонных продаж',\n",
       " 'менеджер телефонных продаж',\n",
       " 'менеджер по продаже вторичной недвижимости (агент)',\n",
       " 'менеджер по продажам и подбору жилья',\n",
       " 'менеджер телефонных продаж',\n",
       " 'менеджер по продажам /агент',\n",
       " 'менеджер по продажам электронных продуктов',\n",
       " 'менеджер телефонных продаж',\n",
       " 'ведущий менеджер по продажам',\n",
       " 'менеджер по продаже',\n",
       " 'менеджер по продажам',\n",
       " 'менеджер по продажам жилья',\n",
       " 'менеджер телефонных продаж']"
      ]
     },
     "execution_count": 28,
     "metadata": {},
     "output_type": "execute_result"
    }
   ],
   "source": [
    "# Restore managerial vacancies with key words (using re library)\n",
    "import re\n",
    "keywords = ['менеджер', 'manager', 'menedzher']\n",
    "\n",
    "[i['name'].lower() for i in vacancies if re.search('менеджер|manager|menedzher', i['name'].lower())]"
   ]
  },
  {
   "cell_type": "code",
   "execution_count": 29,
   "metadata": {},
   "outputs": [
    {
     "data": {
      "text/plain": [
       "['менеджер по продаже недвижимости',\n",
       " 'агент по недвижимости / менеджер по продажам (подразделение на ул. красная)',\n",
       " 'менеджер по грузоперевозкам',\n",
       " 'менеджер по продаже недвижимости/специалист по недвижимости (подразделение на ул. селезнева)',\n",
       " 'агент по недвижимости/менеджер по продаже недвижимости',\n",
       " 'менеджер\\xa0по\\xa0продажам\\xa0недвижимости/риэлтор (подразделение на ул.ставропольская)',\n",
       " 'менеджер по коммерческой недвижимости (подразделение на ул. красная)',\n",
       " 'менеджер по продажам импортной кабельно-проводниковой продукции',\n",
       " 'менеджер по оптовым продажам промышленного электрооборудования',\n",
       " 'менеджер по продажам сельхозтехники',\n",
       " 'менеджер по продажам рекламы',\n",
       " 'менеджер по продаже недвижимости',\n",
       " 'менеджер по привлечению клиентов (краснооктябрьский район, тракторный район)',\n",
       " 'менеджер по привлечению клиентов',\n",
       " 'менеджер отдела продаж новостроек бизнес-класса',\n",
       " 'региональный менеджер по продажам',\n",
       " 'подработка_менеджер по работе с клиентами',\n",
       " 'менеджер телефонных продаж',\n",
       " 'менеджер телефонных продаж',\n",
       " 'менеджер по продаже вторичной недвижимости (агент)',\n",
       " 'менеджер по продажам и подбору жилья',\n",
       " 'менеджер телефонных продаж',\n",
       " 'менеджер по продажам /агент',\n",
       " 'менеджер по продажам электронных продуктов',\n",
       " 'менеджер телефонных продаж',\n",
       " 'ведущий менеджер по продажам',\n",
       " 'менеджер по продаже',\n",
       " 'менеджер по продажам',\n",
       " 'менеджер по продажам жилья',\n",
       " 'менеджер телефонных продаж']"
      ]
     },
     "execution_count": 29,
     "metadata": {},
     "output_type": "execute_result"
    }
   ],
   "source": [
    "# Or the same, using `in`\n",
    "[i['name'].lower() for i in vacancies if sum([j in i['name'].lower() for j in keywords]) > 0]"
   ]
  },
  {
   "cell_type": "code",
   "execution_count": 30,
   "metadata": {},
   "outputs": [
    {
     "data": {
      "text/plain": [
       "['Позитивное мышление. Нацеленность на результат. Самоорганизованность. Готовность работать по стандартам, принятым в компании. Стрессоустойчивость. Умение работать в команде. ',\n",
       " 'Нацеленность на высокий финансовый результат, здоровые амбиции. Желание развиваться в области активных продаж. Отличные коммуникативные навыки. Высокая работоспособность.',\n",
       " 'Мы ценим активность, инициативность и умение работать в режиме многозадачности. В подобной работе важны коммуникативные навыки и уверенность в себе!',\n",
       " 'Ты энергичен и заряжен на результат. Без опыта, но готов обучаться!',\n",
       " 'Работа творческая и одновременно аналитическая. Мыслите позитивно. Готовы к работе разъездного характера. Открыты к новым знаниям.',\n",
       " 'Наши преимущества:',\n",
       " 'Вы - коммуникабельны, находите общий язык с разными людьми. У Вас есть опыт в продажах, Вы гордитесь достигнутыми результатами. ',\n",
       " 'Высшее техническое образование (энергетика, автоматизация, электропривод, радиотехника, производство кабельной продукции). Знание рынка импортной кабельно-проводниковой продукции. Опыт активных продаж кабельно...',\n",
       " 'Высшее техническое образование (энергетика, автоматизация, электропривод, радиотехника). Знание рынка электродвигателей, электроприводов, промышленного оборудования. Опыт активных продаж промышленного оборудования. ',\n",
       " 'Высшее аграрное образование (преимущество). Опыт работы с программой 1С. Внимание к деталям. Наличие водительских прав категории «В» (обязательно).',\n",
       " 'Высокая обучаемость. Грамотная речь. Активность и настойчивость.',\n",
       " 'Уверенность в себе и нацеленность на результат. Желание стать высоко классным специалистом помогать людям и умение не видеть преград (мы...',\n",
       " 'Мы не требуем опыта, так как у нас предусмотрено обучение (стажировка оплачивается). Готовность расти вверх по карьерной лестнице. ',\n",
       " 'Уверенность в себе. Коммуникабельность. Грамотная речь.',\n",
       " 'Без опыта работы. Опробовать навыки продажи недвижимости на реальных клиентах.',\n",
       " 'Опыт оптовых продаж (желателен) или сильное стремление к получению новых знаний. Высокие навыки презентации. Знание техники продаж. Умение работать самостоятельно...',\n",
       " None,\n",
       " None,\n",
       " None,\n",
       " 'Коммуникабельность - умение найти общий язык с любым человеком, расположить к себе, вызвать доверие. Ответственность - решение вопросов с недвижимостью всегда связано...',\n",
       " 'Люди с активной жизненной позицией. Лёгкие на подъём и клиентоориентированные. Нацеленность на результат и стремление много зарабатывать. Грамотная правильная устная...',\n",
       " None,\n",
       " 'Даже если вы не имели опыта работы в сфере недвижимости - мы Вас научим! Желание работать в клиентоориентированном бизнесе. ',\n",
       " 'Правильная речь и четкая дикция. Знание MS Office и Google. Желание зарабатывать для реализации жизненных целей. Опыт в продажах будет...',\n",
       " None,\n",
       " 'Отсутствие опыта в недвижимости– не проблема, ведь мы обучаем с нуля и бесплатно. Желание зарабатывать и готовность много работать. ',\n",
       " 'Желание работать и зарабатывать. Целеустремленность инициативность. Коммуникабельность и умение позитивно мыслить. Грамотная речь и умение общаться с клиентом &quot;на одной...',\n",
       " 'Правильная речь и четкая дикция. Знание MS Office и Google. Желание зарабатывать для реализации жизненных целей. Опыт в продажах будет...',\n",
       " None,\n",
       " None]"
      ]
     },
     "execution_count": 30,
     "metadata": {},
     "output_type": "execute_result"
    }
   ],
   "source": [
    "# Extract requirement from these vacancies\n",
    "skills = [i['snippet']['requirement'] for i in vacancies if re.search('менеджер|manager|menedzher', i['name'].lower())]\n",
    "skills"
   ]
  },
  {
   "cell_type": "code",
   "execution_count": 31,
   "metadata": {},
   "outputs": [
    {
     "data": {
      "text/plain": [
       "[\"pozitivnoe myshlenie. nacelennost' na rezul'tat. samoorganizovannost'. gotovnost' rabotat' po standartam, prinjatym v kompanii. stressoustojchivost'. umenie rabotat' v komande. \",\n",
       " \"nacelennost' na vysokij finansovyj rezul'tat, zdorovye ambicii. zhelanie razvivat'sja v oblasti aktivnyh prodazh. otlichnye kommunikativnye navyki. vysokaja rabotosposobnost'.\",\n",
       " \"my cenim aktivnost', iniciativnost' i umenie rabotat' v rezhime mnogozadachnosti. v podobnoj rabote vazhny kommunikativnye navyki i uverennost' v sebe!\",\n",
       " \"ty ehnergichen i zarjazhen na rezul'tat. bez opyta, no gotov obuchat'sja!\",\n",
       " 'rabota tvorcheskaja i odnovremenno analiticheskaja. myslite pozitivno. gotovy k rabote raz#ezdnogo haraktera. otkryty k novym znanijam.',\n",
       " 'nashi preimuszestva:',\n",
       " \"vy - kommunikabel'ny, nahodite obszij jazyk s raznymi ljud'mi. u vas est' opyt v prodazhah, vy gordites' dostignutymi rezul'tatami. \",\n",
       " \"vysshee tehnicheskoe obrazovanie (ehnergetika, avtomatizacija, ehlektroprivod, radiotehnika, proizvodstvo kabel'noj produkcii). znanie rynka importnoj kabel'no-provodnikovoj produkcii. opyt aktivnyh prodazh kabel'no...\",\n",
       " 'vysshee tehnicheskoe obrazovanie (ehnergetika, avtomatizacija, ehlektroprivod, radiotehnika). znanie rynka ehlektrodvigatelej, ehlektroprivodov, promyshlennogo oborudovanija. opyt aktivnyh prodazh promyshlennogo oborudovanija. ',\n",
       " \"vysshee agrarnoe obrazovanie (preimuszestvo). opyt raboty s programmoj 1s. vnimanie k detaljam. nalichie voditel'skih prav kategorii «v» (objazatel'no).\",\n",
       " \"vysokaja obuchaemost'. gramotnaja rech'. aktivnost' i nastojchivost'.\",\n",
       " \"uverennost' v sebe i nacelennost' na rezul'tat. zhelanie stat' vysoko klassnym specialistom pomogat' ljudjam i umenie ne videt' pregrad (my...\",\n",
       " \"my ne trebuem opyta, tak kak u nas predusmotreno obuchenie (stazhirovka oplachivaetsja). gotovnost' rasti vverh po kar'ernoj lestnice. \",\n",
       " \"uverennost' v sebe. kommunikabel'nost'. gramotnaja rech'.\",\n",
       " \"bez opyta raboty. oprobovat' navyki prodazhi nedvizhimosti na real'nyh klientah.\",\n",
       " \"opyt optovyh prodazh (zhelatelen) ili sil'noe stremlenie k polucheniju novyh znanij. vysokie navyki prezentacii. znanie tehniki prodazh. umenie rabotat' samostojatel'no...\",\n",
       " \"kommunikabel'nost' - umenie najti obszij jazyk s ljubym chelovekom, raspolozhit' k sebe, vyzvat' doverie. otvetstvennost' - reshenie voprosov s nedvizhimost'ju vsegda svjazano...\",\n",
       " \"ljudi s aktivnoj zhiznennoj poziciej. lyogkie na pod#yom i klientoorientirovannye. nacelennost' na rezul'tat i stremlenie mnogo zarabatyvat'. gramotnaja pravil'naja ustnaja...\",\n",
       " \"dazhe esli vy ne imeli opyta raboty v sfere nedvizhimosti - my vas nauchim! zhelanie rabotat' v klientoorientirovannom biznese. \",\n",
       " \"pravil'naja rech' i chetkaja dikcija. znanie ms office i google. zhelanie zarabatyvat' dlja realizacii zhiznennyh celej. opyt v prodazhah budet...\",\n",
       " \"otsutstvie opyta v nedvizhimosti– ne problema, ved' my obuchaem s nulja i besplatno. zhelanie zarabatyvat' i gotovnost' mnogo rabotat'. \",\n",
       " \"zhelanie rabotat' i zarabatyvat'. celeustremlennost' iniciativnost'. kommunikabel'nost' i umenie pozitivno myslit'. gramotnaja rech' i umenie obszat'sja s klientom &quot;na odnoj...\",\n",
       " \"pravil'naja rech' i chetkaja dikcija. znanie ms office i google. zhelanie zarabatyvat' dlja realizacii zhiznennyh celej. opyt v prodazhah budet...\"]"
      ]
     },
     "execution_count": 31,
     "metadata": {},
     "output_type": "execute_result"
    }
   ],
   "source": [
    "# Process this text\n",
    "# Remove None\n",
    "# Lowercase\n",
    "# Translit\n",
    "skills_processed = [cyrtranslit.to_latin(i.lower(), 'ru') for i in skills if i is not None]\n",
    "skills_processed"
   ]
  },
  {
   "cell_type": "code",
   "execution_count": 32,
   "metadata": {},
   "outputs": [
    {
     "data": {
      "text/plain": [
       "['pozitivnoe myshlenie',\n",
       " \" nacelennost' na rezul'tat\",\n",
       " \" samoorganizovannost'\",\n",
       " \" gotovnost' rabotat' po standartam\",\n",
       " ' prinjatym v kompanii',\n",
       " \" stressoustojchivost'\",\n",
       " \" umenie rabotat' v komande\",\n",
       " \"  nacelennost' na vysokij finansovyj rezul'tat\",\n",
       " ' zdorovye ambicii',\n",
       " \" zhelanie razvivat'sja v oblasti aktivnyh prodazh\"]"
      ]
     },
     "execution_count": 32,
     "metadata": {},
     "output_type": "execute_result"
    }
   ],
   "source": [
    "# Join previous result in one line\n",
    "# Then split by several punctuation characters\n",
    "pattern = ',|\\.|;|!|\\(|\\)'\n",
    "phrases = re.split(pattern, ' '.join(skills_processed))\n",
    "phrases[:10]"
   ]
  },
  {
   "cell_type": "code",
   "execution_count": 33,
   "metadata": {},
   "outputs": [
    {
     "data": {
      "text/plain": [
       "['pozitivnoe myshlenie',\n",
       " \"nacelennost' na rezul'tat\",\n",
       " \"samoorganizovannost'\",\n",
       " \"gotovnost' rabotat' po standartam\",\n",
       " 'prinjatym v kompanii',\n",
       " \"stressoustojchivost'\",\n",
       " \"umenie rabotat' v komande\",\n",
       " \"nacelennost' na vysokij finansovyj rezul'tat\",\n",
       " 'zdorovye ambicii',\n",
       " \"zhelanie razvivat'sja v oblasti aktivnyh prodazh\"]"
      ]
     },
     "execution_count": 33,
     "metadata": {},
     "output_type": "execute_result"
    }
   ],
   "source": [
    "# Remove excessive spacing and empty lines\n",
    "phrases_done = [re.sub('\\s{2,}', ' ', i.strip()) for i in phrases]\n",
    "phrases_done = [i for i in phrases_done if i != '']\n",
    "phrases_done[:10]"
   ]
  },
  {
   "cell_type": "code",
   "execution_count": 34,
   "metadata": {},
   "outputs": [
    {
     "data": {
      "text/plain": [
       "[('vysshee tehnicheskoe obrazovanie', 2),\n",
       " ('ehnergetika', 2),\n",
       " ('avtomatizacija', 2),\n",
       " ('ehlektroprivod', 2),\n",
       " ('radiotehnika', 2),\n",
       " (\"gramotnaja rech'\", 2),\n",
       " (\"pravil'naja rech' i chetkaja dikcija\", 2),\n",
       " ('znanie ms office i google', 2),\n",
       " (\"zhelanie zarabatyvat' dlja realizacii zhiznennyh celej\", 2),\n",
       " ('opyt v prodazhah budet', 2)]"
      ]
     },
     "execution_count": 34,
     "metadata": {},
     "output_type": "execute_result"
    }
   ],
   "source": [
    "# Find out frequencies (you can use previous approach or the following)\n",
    "# You can also use the Counter function from collections library\n",
    "# And sort obtained dictionary\n",
    "from collections import Counter\n",
    "sorted(Counter(phrases_done).items(), key = lambda x: x[1], reverse = True)[:10]"
   ]
  },
  {
   "cell_type": "markdown",
   "metadata": {},
   "source": [
    "# Additional stuff\n",
    "## For our future classes in 2nd module\n",
    "We can diplay this data in table structure, using `pandas` library. We can either use initial structure or unflatten (unnest) or dictionary."
   ]
  },
  {
   "cell_type": "code",
   "execution_count": 1,
   "metadata": {},
   "outputs": [],
   "source": [
    "import pandas as pd\n",
    "\n",
    "df = pd.read_json('https://api.hh.ru/vacancies?per_page=100&locale=EN')"
   ]
  },
  {
   "cell_type": "code",
   "execution_count": 2,
   "metadata": {},
   "outputs": [
    {
     "data": {
      "text/html": [
       "<div>\n",
       "<style scoped>\n",
       "    .dataframe tbody tr th:only-of-type {\n",
       "        vertical-align: middle;\n",
       "    }\n",
       "\n",
       "    .dataframe tbody tr th {\n",
       "        vertical-align: top;\n",
       "    }\n",
       "\n",
       "    .dataframe thead th {\n",
       "        text-align: right;\n",
       "    }\n",
       "</style>\n",
       "<table border=\"1\" class=\"dataframe\">\n",
       "  <thead>\n",
       "    <tr style=\"text-align: right;\">\n",
       "      <th></th>\n",
       "      <th>items</th>\n",
       "      <th>found</th>\n",
       "      <th>pages</th>\n",
       "      <th>per_page</th>\n",
       "      <th>page</th>\n",
       "      <th>clusters</th>\n",
       "      <th>arguments</th>\n",
       "      <th>alternate_url</th>\n",
       "    </tr>\n",
       "  </thead>\n",
       "  <tbody>\n",
       "    <tr>\n",
       "      <th>0</th>\n",
       "      <td>{'id': '4095490', 'premium': True, 'name': 'Во...</td>\n",
       "      <td>719548</td>\n",
       "      <td>20</td>\n",
       "      <td>100</td>\n",
       "      <td>0</td>\n",
       "      <td>NaN</td>\n",
       "      <td>NaN</td>\n",
       "      <td>https://hh.ru/search/vacancy?enable_snippets=t...</td>\n",
       "    </tr>\n",
       "    <tr>\n",
       "      <th>1</th>\n",
       "      <td>{'id': '4694457', 'premium': True, 'name': 'Сп...</td>\n",
       "      <td>719548</td>\n",
       "      <td>20</td>\n",
       "      <td>100</td>\n",
       "      <td>0</td>\n",
       "      <td>NaN</td>\n",
       "      <td>NaN</td>\n",
       "      <td>https://hh.ru/search/vacancy?enable_snippets=t...</td>\n",
       "    </tr>\n",
       "    <tr>\n",
       "      <th>2</th>\n",
       "      <td>{'id': '6555939', 'premium': False, 'name': 'В...</td>\n",
       "      <td>719548</td>\n",
       "      <td>20</td>\n",
       "      <td>100</td>\n",
       "      <td>0</td>\n",
       "      <td>NaN</td>\n",
       "      <td>NaN</td>\n",
       "      <td>https://hh.ru/search/vacancy?enable_snippets=t...</td>\n",
       "    </tr>\n",
       "    <tr>\n",
       "      <th>3</th>\n",
       "      <td>{'id': '8184005', 'premium': False, 'name': 'М...</td>\n",
       "      <td>719548</td>\n",
       "      <td>20</td>\n",
       "      <td>100</td>\n",
       "      <td>0</td>\n",
       "      <td>NaN</td>\n",
       "      <td>NaN</td>\n",
       "      <td>https://hh.ru/search/vacancy?enable_snippets=t...</td>\n",
       "    </tr>\n",
       "    <tr>\n",
       "      <th>4</th>\n",
       "      <td>{'id': '8557634', 'premium': False, 'name': 'Ф...</td>\n",
       "      <td>719548</td>\n",
       "      <td>20</td>\n",
       "      <td>100</td>\n",
       "      <td>0</td>\n",
       "      <td>NaN</td>\n",
       "      <td>NaN</td>\n",
       "      <td>https://hh.ru/search/vacancy?enable_snippets=t...</td>\n",
       "    </tr>\n",
       "  </tbody>\n",
       "</table>\n",
       "</div>"
      ],
      "text/plain": [
       "                                               items   found  pages  per_page  \\\n",
       "0  {'id': '4095490', 'premium': True, 'name': 'Во...  719548     20       100   \n",
       "1  {'id': '4694457', 'premium': True, 'name': 'Сп...  719548     20       100   \n",
       "2  {'id': '6555939', 'premium': False, 'name': 'В...  719548     20       100   \n",
       "3  {'id': '8184005', 'premium': False, 'name': 'М...  719548     20       100   \n",
       "4  {'id': '8557634', 'premium': False, 'name': 'Ф...  719548     20       100   \n",
       "\n",
       "   page  clusters  arguments  \\\n",
       "0     0       NaN        NaN   \n",
       "1     0       NaN        NaN   \n",
       "2     0       NaN        NaN   \n",
       "3     0       NaN        NaN   \n",
       "4     0       NaN        NaN   \n",
       "\n",
       "                                       alternate_url  \n",
       "0  https://hh.ru/search/vacancy?enable_snippets=t...  \n",
       "1  https://hh.ru/search/vacancy?enable_snippets=t...  \n",
       "2  https://hh.ru/search/vacancy?enable_snippets=t...  \n",
       "3  https://hh.ru/search/vacancy?enable_snippets=t...  \n",
       "4  https://hh.ru/search/vacancy?enable_snippets=t...  "
      ]
     },
     "execution_count": 2,
     "metadata": {},
     "output_type": "execute_result"
    }
   ],
   "source": [
    "df.head()"
   ]
  },
  {
   "cell_type": "code",
   "execution_count": 3,
   "metadata": {},
   "outputs": [
    {
     "data": {
      "text/html": [
       "<div>\n",
       "<style scoped>\n",
       "    .dataframe tbody tr th:only-of-type {\n",
       "        vertical-align: middle;\n",
       "    }\n",
       "\n",
       "    .dataframe tbody tr th {\n",
       "        vertical-align: top;\n",
       "    }\n",
       "\n",
       "    .dataframe thead th {\n",
       "        text-align: right;\n",
       "    }\n",
       "</style>\n",
       "<table border=\"1\" class=\"dataframe\">\n",
       "  <thead>\n",
       "    <tr style=\"text-align: right;\">\n",
       "      <th></th>\n",
       "      <th>id</th>\n",
       "      <th>premium</th>\n",
       "      <th>name</th>\n",
       "      <th>department</th>\n",
       "      <th>has_test</th>\n",
       "      <th>response_letter_required</th>\n",
       "      <th>response_url</th>\n",
       "      <th>sort_point_distance</th>\n",
       "      <th>published_at</th>\n",
       "      <th>created_at</th>\n",
       "      <th>...</th>\n",
       "      <th>schedule.name</th>\n",
       "      <th>contacts.name</th>\n",
       "      <th>contacts.email</th>\n",
       "      <th>contacts.phones</th>\n",
       "      <th>address.metro</th>\n",
       "      <th>salary</th>\n",
       "      <th>address</th>\n",
       "      <th>employer.logo_urls</th>\n",
       "      <th>department.id</th>\n",
       "      <th>department.name</th>\n",
       "    </tr>\n",
       "  </thead>\n",
       "  <tbody>\n",
       "    <tr>\n",
       "      <th>0</th>\n",
       "      <td>4095490</td>\n",
       "      <td>True</td>\n",
       "      <td>Водитель-международник</td>\n",
       "      <td>NaN</td>\n",
       "      <td>False</td>\n",
       "      <td>False</td>\n",
       "      <td>None</td>\n",
       "      <td>None</td>\n",
       "      <td>2020-10-08T09:37:24+0300</td>\n",
       "      <td>2020-10-08T09:37:24+0300</td>\n",
       "      <td>...</td>\n",
       "      <td>Shift schedule</td>\n",
       "      <td>NaN</td>\n",
       "      <td>NaN</td>\n",
       "      <td>NaN</td>\n",
       "      <td>NaN</td>\n",
       "      <td>NaN</td>\n",
       "      <td>NaN</td>\n",
       "      <td>NaN</td>\n",
       "      <td>NaN</td>\n",
       "      <td>NaN</td>\n",
       "    </tr>\n",
       "    <tr>\n",
       "      <th>1</th>\n",
       "      <td>4694457</td>\n",
       "      <td>True</td>\n",
       "      <td>Специалист/стажер (агент) по недвижимости в аг...</td>\n",
       "      <td>NaN</td>\n",
       "      <td>False</td>\n",
       "      <td>False</td>\n",
       "      <td>None</td>\n",
       "      <td>None</td>\n",
       "      <td>2020-10-06T12:05:58+0300</td>\n",
       "      <td>2020-10-06T12:05:58+0300</td>\n",
       "      <td>...</td>\n",
       "      <td>Flexible schedule</td>\n",
       "      <td>Анурова Юлия Николаевна</td>\n",
       "      <td>personal-advecs@mail.ru</td>\n",
       "      <td>[{'comment': None, 'city': '812', 'number': '3...</td>\n",
       "      <td>NaN</td>\n",
       "      <td>NaN</td>\n",
       "      <td>NaN</td>\n",
       "      <td>NaN</td>\n",
       "      <td>NaN</td>\n",
       "      <td>NaN</td>\n",
       "    </tr>\n",
       "    <tr>\n",
       "      <th>2</th>\n",
       "      <td>6555939</td>\n",
       "      <td>False</td>\n",
       "      <td>Ведущий программист 1С</td>\n",
       "      <td>NaN</td>\n",
       "      <td>False</td>\n",
       "      <td>False</td>\n",
       "      <td>None</td>\n",
       "      <td>None</td>\n",
       "      <td>2020-10-09T13:28:37+0300</td>\n",
       "      <td>2020-10-09T13:28:37+0300</td>\n",
       "      <td>...</td>\n",
       "      <td>Full day</td>\n",
       "      <td>Бабкина Кристина Анатольевна</td>\n",
       "      <td>165@sfx-tula.ru</td>\n",
       "      <td>[{'comment': 'доб. 165', 'city': '487', 'numbe...</td>\n",
       "      <td>NaN</td>\n",
       "      <td>NaN</td>\n",
       "      <td>NaN</td>\n",
       "      <td>NaN</td>\n",
       "      <td>NaN</td>\n",
       "      <td>NaN</td>\n",
       "    </tr>\n",
       "    <tr>\n",
       "      <th>3</th>\n",
       "      <td>8184005</td>\n",
       "      <td>False</td>\n",
       "      <td>Менеджер по продаже недвижимости</td>\n",
       "      <td>NaN</td>\n",
       "      <td>False</td>\n",
       "      <td>False</td>\n",
       "      <td>None</td>\n",
       "      <td>None</td>\n",
       "      <td>2020-10-05T11:31:43+0300</td>\n",
       "      <td>2020-10-05T11:31:43+0300</td>\n",
       "      <td>...</td>\n",
       "      <td>Flexible schedule</td>\n",
       "      <td>Пеца Александр Сергеевич</td>\n",
       "      <td>hr@kayan.ru</td>\n",
       "      <td>[{'comment': None, 'city': '918', 'number': '2...</td>\n",
       "      <td>NaN</td>\n",
       "      <td>NaN</td>\n",
       "      <td>NaN</td>\n",
       "      <td>NaN</td>\n",
       "      <td>NaN</td>\n",
       "      <td>NaN</td>\n",
       "    </tr>\n",
       "    <tr>\n",
       "      <th>4</th>\n",
       "      <td>8557634</td>\n",
       "      <td>False</td>\n",
       "      <td>Финансовый консультант</td>\n",
       "      <td>NaN</td>\n",
       "      <td>False</td>\n",
       "      <td>False</td>\n",
       "      <td>None</td>\n",
       "      <td>None</td>\n",
       "      <td>2020-10-08T14:00:49+0300</td>\n",
       "      <td>2020-10-08T14:00:49+0300</td>\n",
       "      <td>...</td>\n",
       "      <td>Full day</td>\n",
       "      <td>NaN</td>\n",
       "      <td>NaN</td>\n",
       "      <td>NaN</td>\n",
       "      <td>NaN</td>\n",
       "      <td>NaN</td>\n",
       "      <td>NaN</td>\n",
       "      <td>NaN</td>\n",
       "      <td>NaN</td>\n",
       "      <td>NaN</td>\n",
       "    </tr>\n",
       "  </tbody>\n",
       "</table>\n",
       "<p>5 rows × 67 columns</p>\n",
       "</div>"
      ],
      "text/plain": [
       "        id  premium                                               name  \\\n",
       "0  4095490     True                             Водитель-международник   \n",
       "1  4694457     True  Специалист/стажер (агент) по недвижимости в аг...   \n",
       "2  6555939    False                             Ведущий программист 1С   \n",
       "3  8184005    False                   Менеджер по продаже недвижимости   \n",
       "4  8557634    False                             Финансовый консультант   \n",
       "\n",
       "   department  has_test  response_letter_required response_url  \\\n",
       "0         NaN     False                     False         None   \n",
       "1         NaN     False                     False         None   \n",
       "2         NaN     False                     False         None   \n",
       "3         NaN     False                     False         None   \n",
       "4         NaN     False                     False         None   \n",
       "\n",
       "  sort_point_distance              published_at                created_at  \\\n",
       "0                None  2020-10-08T09:37:24+0300  2020-10-08T09:37:24+0300   \n",
       "1                None  2020-10-06T12:05:58+0300  2020-10-06T12:05:58+0300   \n",
       "2                None  2020-10-09T13:28:37+0300  2020-10-09T13:28:37+0300   \n",
       "3                None  2020-10-05T11:31:43+0300  2020-10-05T11:31:43+0300   \n",
       "4                None  2020-10-08T14:00:49+0300  2020-10-08T14:00:49+0300   \n",
       "\n",
       "   ...      schedule.name                 contacts.name  \\\n",
       "0  ...     Shift schedule                           NaN   \n",
       "1  ...  Flexible schedule       Анурова Юлия Николаевна   \n",
       "2  ...           Full day  Бабкина Кристина Анатольевна   \n",
       "3  ...  Flexible schedule      Пеца Александр Сергеевич   \n",
       "4  ...           Full day                           NaN   \n",
       "\n",
       "            contacts.email                                    contacts.phones  \\\n",
       "0                      NaN                                                NaN   \n",
       "1  personal-advecs@mail.ru  [{'comment': None, 'city': '812', 'number': '3...   \n",
       "2          165@sfx-tula.ru  [{'comment': 'доб. 165', 'city': '487', 'numbe...   \n",
       "3              hr@kayan.ru  [{'comment': None, 'city': '918', 'number': '2...   \n",
       "4                      NaN                                                NaN   \n",
       "\n",
       "  address.metro salary  address employer.logo_urls department.id  \\\n",
       "0           NaN    NaN      NaN                NaN           NaN   \n",
       "1           NaN    NaN      NaN                NaN           NaN   \n",
       "2           NaN    NaN      NaN                NaN           NaN   \n",
       "3           NaN    NaN      NaN                NaN           NaN   \n",
       "4           NaN    NaN      NaN                NaN           NaN   \n",
       "\n",
       "  department.name  \n",
       "0             NaN  \n",
       "1             NaN  \n",
       "2             NaN  \n",
       "3             NaN  \n",
       "4             NaN  \n",
       "\n",
       "[5 rows x 67 columns]"
      ]
     },
     "execution_count": 3,
     "metadata": {},
     "output_type": "execute_result"
    }
   ],
   "source": [
    "vacs = pd.io.json.json_normalize(df['items'])\n",
    "vacs.head()"
   ]
  },
  {
   "cell_type": "code",
   "execution_count": 5,
   "metadata": {},
   "outputs": [
    {
     "data": {
      "text/html": [
       "<div>\n",
       "<style scoped>\n",
       "    .dataframe tbody tr th:only-of-type {\n",
       "        vertical-align: middle;\n",
       "    }\n",
       "\n",
       "    .dataframe tbody tr th {\n",
       "        vertical-align: top;\n",
       "    }\n",
       "\n",
       "    .dataframe thead th {\n",
       "        text-align: right;\n",
       "    }\n",
       "</style>\n",
       "<table border=\"1\" class=\"dataframe\">\n",
       "  <thead>\n",
       "    <tr style=\"text-align: right;\">\n",
       "      <th></th>\n",
       "      <th>area.name</th>\n",
       "      <th>salary.from</th>\n",
       "      <th>salary.to</th>\n",
       "      <th>salary.currency</th>\n",
       "      <th>salary.gross</th>\n",
       "    </tr>\n",
       "  </thead>\n",
       "  <tbody>\n",
       "    <tr>\n",
       "      <th>0</th>\n",
       "      <td>Minsk</td>\n",
       "      <td>2500.0</td>\n",
       "      <td>NaN</td>\n",
       "      <td>BYR</td>\n",
       "      <td>False</td>\n",
       "    </tr>\n",
       "    <tr>\n",
       "      <th>1</th>\n",
       "      <td>Saint Petersburg</td>\n",
       "      <td>45000.0</td>\n",
       "      <td>150000.0</td>\n",
       "      <td>RUR</td>\n",
       "      <td>True</td>\n",
       "    </tr>\n",
       "    <tr>\n",
       "      <th>2</th>\n",
       "      <td>Tula</td>\n",
       "      <td>80000.0</td>\n",
       "      <td>NaN</td>\n",
       "      <td>RUR</td>\n",
       "      <td>True</td>\n",
       "    </tr>\n",
       "    <tr>\n",
       "      <th>3</th>\n",
       "      <td>Krasnodar</td>\n",
       "      <td>70000.0</td>\n",
       "      <td>250000.0</td>\n",
       "      <td>RUR</td>\n",
       "      <td>False</td>\n",
       "    </tr>\n",
       "    <tr>\n",
       "      <th>4</th>\n",
       "      <td>Yekaterinburg</td>\n",
       "      <td>NaN</td>\n",
       "      <td>NaN</td>\n",
       "      <td>NaN</td>\n",
       "      <td>NaN</td>\n",
       "    </tr>\n",
       "    <tr>\n",
       "      <th>...</th>\n",
       "      <td>...</td>\n",
       "      <td>...</td>\n",
       "      <td>...</td>\n",
       "      <td>...</td>\n",
       "      <td>...</td>\n",
       "    </tr>\n",
       "    <tr>\n",
       "      <th>95</th>\n",
       "      <td>Moscow</td>\n",
       "      <td>35000.0</td>\n",
       "      <td>NaN</td>\n",
       "      <td>RUR</td>\n",
       "      <td>True</td>\n",
       "    </tr>\n",
       "    <tr>\n",
       "      <th>96</th>\n",
       "      <td>Ufa</td>\n",
       "      <td>NaN</td>\n",
       "      <td>150000.0</td>\n",
       "      <td>RUR</td>\n",
       "      <td>True</td>\n",
       "    </tr>\n",
       "    <tr>\n",
       "      <th>97</th>\n",
       "      <td>Ufa</td>\n",
       "      <td>60000.0</td>\n",
       "      <td>150000.0</td>\n",
       "      <td>RUR</td>\n",
       "      <td>False</td>\n",
       "    </tr>\n",
       "    <tr>\n",
       "      <th>98</th>\n",
       "      <td>Izhevsk</td>\n",
       "      <td>28000.0</td>\n",
       "      <td>NaN</td>\n",
       "      <td>RUR</td>\n",
       "      <td>True</td>\n",
       "    </tr>\n",
       "    <tr>\n",
       "      <th>99</th>\n",
       "      <td>Kazan</td>\n",
       "      <td>28000.0</td>\n",
       "      <td>NaN</td>\n",
       "      <td>RUR</td>\n",
       "      <td>True</td>\n",
       "    </tr>\n",
       "  </tbody>\n",
       "</table>\n",
       "<p>100 rows × 5 columns</p>\n",
       "</div>"
      ],
      "text/plain": [
       "           area.name  salary.from  salary.to salary.currency salary.gross\n",
       "0              Minsk       2500.0        NaN             BYR        False\n",
       "1   Saint Petersburg      45000.0   150000.0             RUR         True\n",
       "2               Tula      80000.0        NaN             RUR         True\n",
       "3          Krasnodar      70000.0   250000.0             RUR        False\n",
       "4      Yekaterinburg          NaN        NaN             NaN          NaN\n",
       "..               ...          ...        ...             ...          ...\n",
       "95            Moscow      35000.0        NaN             RUR         True\n",
       "96               Ufa          NaN   150000.0             RUR         True\n",
       "97               Ufa      60000.0   150000.0             RUR        False\n",
       "98           Izhevsk      28000.0        NaN             RUR         True\n",
       "99             Kazan      28000.0        NaN             RUR         True\n",
       "\n",
       "[100 rows x 5 columns]"
      ]
     },
     "execution_count": 5,
     "metadata": {},
     "output_type": "execute_result"
    }
   ],
   "source": [
    "vacs.filter(regex = ('area.name|salary..*'))"
   ]
  }
 ],
 "metadata": {
  "kernelspec": {
   "display_name": "Python 3",
   "language": "python",
   "name": "python3"
  },
  "language_info": {
   "codemirror_mode": {
    "name": "ipython",
    "version": 3
   },
   "file_extension": ".py",
   "mimetype": "text/x-python",
   "name": "python",
   "nbconvert_exporter": "python",
   "pygments_lexer": "ipython3",
   "version": "3.7.1"
  }
 },
 "nbformat": 4,
 "nbformat_minor": 2
}
