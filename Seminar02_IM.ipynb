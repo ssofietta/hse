{
 "cells": [
  {
   "cell_type": "markdown",
   "metadata": {},
   "source": [
    "# Seminar 2\n",
    "## Additional notes about Functions\n",
    "Functions are used to shorten your code. For example, you can create function named `sqrt` that calculates the sqare root as following:\n",
    "\n",
    "```python\n",
    "def sqrt(value):\n",
    "    return value ** 0.5\n",
    "```\n",
    "\n",
    "And call it somewhere like `sqrt(4)`, that prints 2.0\n",
    "\n",
    "## Call Functions from Libraries\n",
    "The raw Python environment does not have predefined function `sqrt` but the library named `math` - has. For example, we know functions, which are stored in specific library and we want to use specific function in our file. So, we need to call the library as follows:\n",
    "```python\n",
    "from math import sqrt\n",
    "sqrt(4)\n",
    "```\n",
    "\n",
    "We can also rename already defined functions, while calling, as we want like this:\n",
    "```python\n",
    "from math import sqrt as root2\n",
    "root2(4)\n",
    "```\n",
    "\n",
    "Or can import the whole library and use the function name after dot (while defining library name):\n",
    "```python\n",
    "import math\n",
    "math.sqrt(4)\n",
    "```\n",
    "\n",
    "Also we can change the name of library in our environment (sometimes for convenience):\n",
    "```python\n",
    "import math as m\n",
    "m.sqrt(4)\n",
    "```\n",
    "\n",
    "We can see all funcions after importing library like `import math` by setting dot after library name (`math.`) and pressing `TAB`\n",
    "\n",
    "## Creating File with Your Own Functions\n",
    "Sometimes you need to avoid the increasing amount of your code in one file or notebook. Or just want to store some functions important for you in separate file. For this we can create the file with `*.py` add-in (and place it in the same folder as your Notebook located), where you can place your own list of functions. For example, save file `seminar.py` in the same folder with following lines of code:\n",
    "```python\n",
    "# My file with list of functions\n",
    "# Function 1. Square Root\n",
    "def sqroot(a):\n",
    "    return a ** 0.5\n",
    "    \n",
    "# Function 2. Power 2\n",
    "def power2(a):\n",
    "    return a ** 2\n",
    "```\n",
    "\n",
    "Than we can call listed above functions by importing with the filename (like we import libraries):\n",
    "```python\n",
    "from seminar import sqroot, power2\n",
    "print(sqroot(2))\n",
    "print(power2(2))\n",
    "```\n",
    "\n",
    "## Install Libraries\n",
    "\n",
    "All widespread libraries are already in Anaconda environment. However, if you need special library, you have to find **Anaconda Prompt** (Start -> Anaconda 3 -> Anaconda Prompt) and use one of the following commands to install new library (one of the following have to work):\n",
    "\n",
    "For example we want to install package named `numpy` (we actually have it in Anaconda):\n",
    "* `conda install -c anaconda numpy` \n",
    "* `pip install numpy`\n",
    "* `pip3 install numpy`\n",
    "\n",
    "Or we can install library directly from Jupyter Notebook with following command:\n",
    "\n",
    "```python\n",
    "import sys\n",
    "!{sys.executable} -m pip install numpy --user\n",
    "```\n",
    "\n",
    "Or, easily:\n",
    "```python\n",
    "!pip install numpy\n",
    "```"
   ]
  },
  {
   "cell_type": "code",
   "execution_count": null,
   "metadata": {
    "collapsed": true
   },
   "outputs": [],
   "source": [
    "# Reproduce above step-by-step"
   ]
  },
  {
   "cell_type": "code",
   "execution_count": null,
   "metadata": {},
   "outputs": [],
   "source": [
    "# Be aware that Python by default does not have function called \"sqrt\"\n",
    "sqrt(4)"
   ]
  },
  {
   "cell_type": "code",
   "execution_count": null,
   "metadata": {
    "collapsed": true
   },
   "outputs": [],
   "source": [
    "# Define own\n",
    "def sqrt(value):\n",
    "    return value ** 0.5"
   ]
  },
  {
   "cell_type": "code",
   "execution_count": null,
   "metadata": {},
   "outputs": [],
   "source": [
    "sqrt(4)"
   ]
  },
  {
   "cell_type": "code",
   "execution_count": null,
   "metadata": {},
   "outputs": [],
   "source": [
    "# Import from \"math\"\n",
    "from math import sqrt\n",
    "sqrt(4)"
   ]
  },
  {
   "cell_type": "code",
   "execution_count": null,
   "metadata": {},
   "outputs": [],
   "source": [
    "from math import sqrt as root2\n",
    "root2(4)"
   ]
  },
  {
   "cell_type": "code",
   "execution_count": null,
   "metadata": {},
   "outputs": [],
   "source": [
    "import math\n",
    "math.sqrt(4)"
   ]
  },
  {
   "cell_type": "code",
   "execution_count": null,
   "metadata": {},
   "outputs": [],
   "source": [
    "import math as m\n",
    "m.sqrt(4)"
   ]
  },
  {
   "cell_type": "code",
   "execution_count": null,
   "metadata": {},
   "outputs": [],
   "source": [
    "# Import from our own wile we create in same folder\n",
    "from seminar import sqroot, power2\n",
    "print(sqroot(2))\n",
    "print(power2(2))"
   ]
  },
  {
   "cell_type": "code",
   "execution_count": null,
   "metadata": {
    "collapsed": true
   },
   "outputs": [],
   "source": [
    "# Execute 3 following cells"
   ]
  },
  {
   "cell_type": "code",
   "execution_count": null,
   "metadata": {
    "collapsed": true
   },
   "outputs": [],
   "source": [
    "import sys\n",
    "!{sys.executable} -m pip install tqdm --user"
   ]
  },
  {
   "cell_type": "code",
   "execution_count": null,
   "metadata": {
    "collapsed": true
   },
   "outputs": [],
   "source": [
    "from tqdm import tqdm"
   ]
  },
  {
   "cell_type": "code",
   "execution_count": null,
   "metadata": {},
   "outputs": [],
   "source": [
    "for i in tqdm(range(1000000)):\n",
    "    pass"
   ]
  },
  {
   "cell_type": "code",
   "execution_count": null,
   "metadata": {
    "collapsed": true
   },
   "outputs": [],
   "source": [
    "# Sometimes we need to assess the speed of the function\n",
    "# In Jupyther we have the special command %timeit, which reproduce code many times and calculate execution time"
   ]
  },
  {
   "cell_type": "code",
   "execution_count": null,
   "metadata": {
    "collapsed": true
   },
   "outputs": [],
   "source": [
    "# For example we have write sort function for list\n",
    "# Write function of Bubble Sort"
   ]
  },
  {
   "cell_type": "markdown",
   "metadata": {},
   "source": [
    "<!-- RUN THIS CELL -->\n",
    "![Bubble Sort](https://upload.wikimedia.org/wikipedia/commons/c/c8/Bubble-sort-example-300px.gif)"
   ]
  },
  {
   "cell_type": "code",
   "execution_count": null,
   "metadata": {
    "collapsed": true
   },
   "outputs": [],
   "source": [
    "# Function for Bubble Sort\n",
    "def bubblesort(nums):\n",
    "    n = 1\n",
    "    while n < len(nums):\n",
    "        for i in range(len(nums) - n):\n",
    "            if nums[i] > nums[i + 1]:\n",
    "                nums[i], nums[i + 1] = nums[i + 1], nums[i]\n",
    "        n += 1\n",
    "    return nums"
   ]
  },
  {
   "cell_type": "code",
   "execution_count": null,
   "metadata": {},
   "outputs": [],
   "source": [
    "# Run It\n",
    "n = [1, 3, 5, 2, 0, 4]\n",
    "bubblesort(n.copy())"
   ]
  },
  {
   "cell_type": "code",
   "execution_count": null,
   "metadata": {},
   "outputs": [],
   "source": [
    "# We also have predefined method \"sort\" for list\n",
    "# It is close to quick sort algorithm"
   ]
  },
  {
   "cell_type": "markdown",
   "metadata": {},
   "source": [
    "<!-- RUN THIS CELL -->\n",
    "![Quick sort](https://upload.wikimedia.org/wikipedia/commons/6/6a/Sorting_quicksort_anim.gif)"
   ]
  },
  {
   "cell_type": "code",
   "execution_count": null,
   "metadata": {},
   "outputs": [],
   "source": [
    "# Rewrite Function for Quick Sort\n",
    "def quicksort(nums):\n",
    "    nums.sort()\n",
    "    return nums"
   ]
  },
  {
   "cell_type": "code",
   "execution_count": null,
   "metadata": {},
   "outputs": [],
   "source": [
    "quicksort(n.copy())"
   ]
  },
  {
   "cell_type": "markdown",
   "metadata": {},
   "source": [
    "Theoretically, Bubble Sort is slower than Quick Sort algorithm (comparing asymptotic performance). \n",
    "\n",
    "In algorithmic way let say (*Bubble* vs. *Quick*):\n",
    "$\\mathcal{O}(n^2) > \\mathcal{O}(n\\cdot\\log(n))$"
   ]
  },
  {
   "cell_type": "code",
   "execution_count": null,
   "metadata": {},
   "outputs": [],
   "source": [
    "# Check this with %timeit\n",
    "# Prompt the number of loops with bash command \"-n 100\" to execute exactly 100 loops\n",
    "%timeit -n 100 bubblesort(n.copy())\n",
    "%timeit -n 100 quicksort(n.copy())"
   ]
  },
  {
   "cell_type": "code",
   "execution_count": null,
   "metadata": {},
   "outputs": [],
   "source": [
    "# Hint \"n\" is not changed because we do not redefine it with the other variable name by using \"copy\" method\n",
    "n"
   ]
  },
  {
   "cell_type": "markdown",
   "metadata": {},
   "source": [
    "## Functions (cont.)"
   ]
  },
  {
   "cell_type": "code",
   "execution_count": null,
   "metadata": {
    "collapsed": true
   },
   "outputs": [],
   "source": [
    "# Than write the function named \"column(table, i)\", which calculates the i-th column in table"
   ]
  },
  {
   "cell_type": "code",
   "execution_count": null,
   "metadata": {
    "collapsed": true
   },
   "outputs": [],
   "source": [
    "# Table (in form of two sublists)\n",
    "table = [[1, 2, 3],\n",
    "         [5, 10, 15]]"
   ]
  },
  {
   "cell_type": "code",
   "execution_count": null,
   "metadata": {},
   "outputs": [],
   "source": [
    "# First row\n",
    "table[0]"
   ]
  },
  {
   "cell_type": "code",
   "execution_count": null,
   "metadata": {},
   "outputs": [],
   "source": [
    "# Second row & third element\n",
    "table[1][2]"
   ]
  },
  {
   "cell_type": "code",
   "execution_count": null,
   "metadata": {},
   "outputs": [],
   "source": [
    "# Last row\n",
    "table[-1]"
   ]
  },
  {
   "cell_type": "code",
   "execution_count": null,
   "metadata": {
    "collapsed": true
   },
   "outputs": [],
   "source": [
    "# Our function\n",
    "def column(table, i):\n",
    "    return [row[i] for row in table]"
   ]
  },
  {
   "cell_type": "code",
   "execution_count": null,
   "metadata": {
    "collapsed": true
   },
   "outputs": [],
   "source": [
    "# Check it with \"assert\" function (returns nothing if True and error if False)\n",
    "assert column([[1, 2, 3], [5, 10, 15]], 1) == [2, 10]"
   ]
  },
  {
   "cell_type": "code",
   "execution_count": null,
   "metadata": {},
   "outputs": [],
   "source": [
    "# The same manual check\n",
    "column(table, 1)"
   ]
  },
  {
   "cell_type": "code",
   "execution_count": null,
   "metadata": {},
   "outputs": [],
   "source": [
    "# You can itarate by tuples (not changable format similar to list)\n",
    "students = ['a', 'b']\n",
    "grades = [1, 2]\n",
    "zip(students, grades)"
   ]
  },
  {
   "cell_type": "code",
   "execution_count": null,
   "metadata": {},
   "outputs": [],
   "source": [
    "# zip-fuction concatenates values taken min length in one object\n",
    "list(zip(students, grades))"
   ]
  },
  {
   "cell_type": "code",
   "execution_count": null,
   "metadata": {},
   "outputs": [],
   "source": [
    "# We can iterate so by two arguments in for-in loop\n",
    "# For example\n",
    "for student, grade in zip(students, grades):\n",
    "    print(student, grade)"
   ]
  },
  {
   "cell_type": "code",
   "execution_count": null,
   "metadata": {
    "collapsed": true
   },
   "outputs": [],
   "source": [
    "# Or just write the function of two lists concatenation\n",
    "def listcon(lst1, lst2):\n",
    "    return [str(lst1) + ': ' + str(lst2) for lst1, lst2 in zip(lst1, lst2)]"
   ]
  },
  {
   "cell_type": "code",
   "execution_count": null,
   "metadata": {},
   "outputs": [],
   "source": [
    "listcon([1, 2, 3], ['a', 'b', 'c'])"
   ]
  },
  {
   "cell_type": "markdown",
   "metadata": {},
   "source": [
    "## Working with files"
   ]
  },
  {
   "cell_type": "code",
   "execution_count": null,
   "metadata": {
    "collapsed": true
   },
   "outputs": [],
   "source": [
    "# For example we want to read any file line-by-line\n",
    "# Keep our \"seminar_masters.py\" as example (it could be also *.txt, *.csv, etc)"
   ]
  },
  {
   "cell_type": "code",
   "execution_count": null,
   "metadata": {},
   "outputs": [],
   "source": [
    "# Get our file path\n",
    "import os\n",
    "os.getcwd()"
   ]
  },
  {
   "cell_type": "code",
   "execution_count": null,
   "metadata": {},
   "outputs": [],
   "source": [
    "path = os.getcwd() + '\\\\seminar_masters.py'\n",
    "path"
   ]
  },
  {
   "cell_type": "code",
   "execution_count": null,
   "metadata": {},
   "outputs": [],
   "source": [
    "# Read the file and print line-by-line (do not forget to close)\n",
    "# rstrip() to delete all spaces from the right in the string\n",
    "f = open(path)\n",
    "for line in f:\n",
    "    print(line.rstrip())\n",
    "f.close()"
   ]
  },
  {
   "cell_type": "code",
   "execution_count": null,
   "metadata": {
    "collapsed": true
   },
   "outputs": [],
   "source": [
    "# Second option\n",
    "f = open(path)\n",
    "lines = f.readlines()\n",
    "f.close()"
   ]
  },
  {
   "cell_type": "code",
   "execution_count": null,
   "metadata": {},
   "outputs": [],
   "source": [
    "lines"
   ]
  },
  {
   "cell_type": "code",
   "execution_count": null,
   "metadata": {
    "collapsed": true
   },
   "outputs": [],
   "source": [
    "# Third option\n",
    "f = open(path)\n",
    "text = f.read()\n",
    "f.close()"
   ]
  },
  {
   "cell_type": "code",
   "execution_count": null,
   "metadata": {},
   "outputs": [],
   "source": [
    "text"
   ]
  },
  {
   "cell_type": "code",
   "execution_count": null,
   "metadata": {
    "collapsed": true
   },
   "outputs": [],
   "source": [
    "# Create file and write there\n",
    "f = open(\"new.txt\", \"w\")\n",
    "print(\"Hello! This is new file.\", file=f)\n",
    "f.close()"
   ]
  },
  {
   "cell_type": "code",
   "execution_count": null,
   "metadata": {
    "collapsed": true
   },
   "outputs": [],
   "source": [
    "# Add a line without open-close operation\n",
    "with open(\"new.txt\", \"a\") as smth:\n",
    "    print(\"New line here\", file = smth)"
   ]
  },
  {
   "cell_type": "code",
   "execution_count": null,
   "metadata": {},
   "outputs": [],
   "source": [
    "# Just Show result\n",
    "with open(\"new.txt\") as nf:\n",
    "    print(nf.readlines())"
   ]
  },
  {
   "cell_type": "code",
   "execution_count": null,
   "metadata": {},
   "outputs": [],
   "source": [
    "# Check that file actually closed\n",
    "for i in nf:\n",
    "    print(i)"
   ]
  }
 ],
 "metadata": {
  "anaconda-cloud": {},
  "kernelspec": {
   "display_name": "Python 3",
   "language": "python",
   "name": "python3"
  },
  "language_info": {
   "codemirror_mode": {
    "name": "ipython",
    "version": 3
   },
   "file_extension": ".py",
   "mimetype": "text/x-python",
   "name": "python",
   "nbconvert_exporter": "python",
   "pygments_lexer": "ipython3",
   "version": "3.7.1"
  }
 },
 "nbformat": 4,
 "nbformat_minor": 2
}
