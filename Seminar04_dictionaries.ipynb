{
 "cells": [
  {
   "cell_type": "markdown",
   "metadata": {},
   "source": [
    "# Seminar 04\n",
    "---"
   ]
  },
  {
   "cell_type": "markdown",
   "metadata": {},
   "source": [
    "### Recap \n",
    "### Lists and loops"
   ]
  },
  {
   "cell_type": "markdown",
   "metadata": {},
   "source": [
    "### Small Task 1\n",
    "You have the following list:\n",
    "```python\n",
    "list1 = ['a', 'b', 'c', 'b', 'c', 'a']\n",
    "```\n",
    "\n",
    "You need to extract all indexes related to `'a'` or `'b'` and put them in new list.\n",
    "\n",
    "---"
   ]
  },
  {
   "cell_type": "markdown",
   "metadata": {},
   "source": [
    "### Small Task 2\n",
    "You have the following list:\n",
    "```python\n",
    "list2 = ['a', 'b', 'c', 'b', 'c', 'a', 'a', 'b', 'c', 'b', 'c', 'a']\n",
    "```\n",
    "You have also the list with indexes:\n",
    "```python\n",
    "inds = [1, 3] + list(range(5, 10))\n",
    "```\n",
    "You need to extract from `list2` elements with indexes provided in `inds`.\n",
    "\n",
    "---"
   ]
  },
  {
   "cell_type": "markdown",
   "metadata": {},
   "source": [
    "### Sorting strings (with `key`)"
   ]
  },
  {
   "cell_type": "code",
   "execution_count": null,
   "metadata": {},
   "outputs": [],
   "source": [
    "list3 = ['Hello', 'my', 'name', 'is', 'Siri']\n",
    "\n",
    "print(list3, end = '\\n'*2)\n",
    "print(sorted(list3))\n",
    "print(sorted(list3, key = len))\n",
    "print(sorted(list3, key = str.lower))\n",
    "print(sorted(list3, key = str.upper, reverse = True))"
   ]
  },
  {
   "cell_type": "markdown",
   "metadata": {},
   "source": [
    "### Tuples (additional)\n",
    "Start with [this link](https://www.w3schools.com/python/python_tuples.asp)"
   ]
  },
  {
   "cell_type": "code",
   "execution_count": null,
   "metadata": {},
   "outputs": [],
   "source": [
    "# Create\n",
    "tup = (1, 'a')\n",
    "tup2 = (3, 2, 1, ['a', 'b', 'c'])\n",
    "tup3 = 5, 'A'\n",
    "tup4 = (3, )"
   ]
  },
  {
   "cell_type": "code",
   "execution_count": null,
   "metadata": {},
   "outputs": [],
   "source": [
    "# Try change value\n",
    "tup2[2] = \"\\U0001f600\""
   ]
  },
  {
   "cell_type": "code",
   "execution_count": null,
   "metadata": {},
   "outputs": [],
   "source": [
    "# Change this way (1)\n",
    "tup2 = list(tup2)\n",
    "tup2[2] = \"\\U0001f600\"\n",
    "tup2 = tuple(tup2)\n",
    "tup2"
   ]
  },
  {
   "cell_type": "code",
   "execution_count": null,
   "metadata": {},
   "outputs": [],
   "source": [
    "# Change this way (2)\n",
    "tup2[:2] + tuple(\"\\N{slightly smiling face}\") + tup2[3:]"
   ]
  },
  {
   "cell_type": "code",
   "execution_count": null,
   "metadata": {},
   "outputs": [],
   "source": [
    "# Assign\n",
    "a, b = 1, 3\n",
    "print(a)\n",
    "print(b)"
   ]
  },
  {
   "cell_type": "markdown",
   "metadata": {},
   "source": [
    "---\n",
    "## Dictionaries\n",
    "Start with [this chapter](https://automatetheboringstuff.com/2e/chapter5/)"
   ]
  },
  {
   "cell_type": "code",
   "execution_count": null,
   "metadata": {},
   "outputs": [],
   "source": [
    "# Names & Grades\n",
    "# students = ['A', 'B', 'C']\n",
    "# grades = [5, 4, 3]"
   ]
  },
  {
   "cell_type": "code",
   "execution_count": null,
   "metadata": {},
   "outputs": [],
   "source": [
    "gradebook = {\"A\": 5, \"B\": 4, \"C\": 2, \"D\": 3}"
   ]
  },
  {
   "cell_type": "code",
   "execution_count": null,
   "metadata": {},
   "outputs": [],
   "source": [
    "gradebook"
   ]
  },
  {
   "cell_type": "code",
   "execution_count": null,
   "metadata": {},
   "outputs": [],
   "source": [
    "gradebook['A']"
   ]
  },
  {
   "cell_type": "code",
   "execution_count": null,
   "metadata": {},
   "outputs": [],
   "source": [
    "gradebook['B']"
   ]
  },
  {
   "cell_type": "code",
   "execution_count": null,
   "metadata": {},
   "outputs": [],
   "source": [
    "# Change values\n",
    "gradebook['D'] = 5"
   ]
  },
  {
   "cell_type": "code",
   "execution_count": null,
   "metadata": {},
   "outputs": [],
   "source": [
    "# Add new\n",
    "gradebook['E'] = 4"
   ]
  },
  {
   "cell_type": "code",
   "execution_count": null,
   "metadata": {},
   "outputs": [],
   "source": [
    "# .get()\n",
    "gradebook.get('B')"
   ]
  },
  {
   "cell_type": "code",
   "execution_count": null,
   "metadata": {},
   "outputs": [],
   "source": [
    "gradebook.get('Student', 'No such student')"
   ]
  },
  {
   "cell_type": "code",
   "execution_count": null,
   "metadata": {},
   "outputs": [],
   "source": [
    "# All keys\n",
    "gradebook.keys()"
   ]
  },
  {
   "cell_type": "code",
   "execution_count": null,
   "metadata": {},
   "outputs": [],
   "source": [
    "# All values\n",
    "gradebook.values()"
   ]
  },
  {
   "cell_type": "code",
   "execution_count": null,
   "metadata": {},
   "outputs": [],
   "source": [
    "# View all values\n",
    "for k in gradebook:\n",
    "    print(k)"
   ]
  },
  {
   "cell_type": "code",
   "execution_count": null,
   "metadata": {},
   "outputs": [],
   "source": [
    "# Pairs of key-value (ver. 1)\n",
    "for k in gradebook:\n",
    "    print(k, '-', gradebook[k])"
   ]
  },
  {
   "cell_type": "code",
   "execution_count": null,
   "metadata": {},
   "outputs": [],
   "source": [
    "# Pairs of key-value (ver. 2)\n",
    "for k, v in gradebook.items():\n",
    "    print(k, \"-\", v)"
   ]
  },
  {
   "cell_type": "code",
   "execution_count": null,
   "metadata": {},
   "outputs": [],
   "source": [
    "# Check the dictionary content\n",
    "'D' in gradebook"
   ]
  },
  {
   "cell_type": "code",
   "execution_count": null,
   "metadata": {},
   "outputs": [],
   "source": [
    "4 in gradebook.values()"
   ]
  },
  {
   "cell_type": "code",
   "execution_count": null,
   "metadata": {},
   "outputs": [],
   "source": [
    "# Create dictionary\n",
    "my_dict = {}"
   ]
  },
  {
   "cell_type": "code",
   "execution_count": null,
   "metadata": {},
   "outputs": [],
   "source": [
    "my_dict[1] = 1\n",
    "my_dict['hello'] = 'world'"
   ]
  },
  {
   "cell_type": "code",
   "execution_count": null,
   "metadata": {},
   "outputs": [],
   "source": [
    "my_dict"
   ]
  },
  {
   "cell_type": "code",
   "execution_count": null,
   "metadata": {},
   "outputs": [],
   "source": [
    "# Approach 2\n",
    "dict([('hello','world'), ('one', 'two')])"
   ]
  },
  {
   "cell_type": "code",
   "execution_count": null,
   "metadata": {},
   "outputs": [],
   "source": [
    "students = [\"A\", \"B\", \"C\", \"D\"]\n",
    "grades = [5, 4, 2, 3]\n",
    "new_gradebook = dict(zip(students, grades))\n",
    "new_gradebook"
   ]
  },
  {
   "cell_type": "code",
   "execution_count": null,
   "metadata": {},
   "outputs": [],
   "source": [
    "# Iteration by dictionary\n",
    "for st, gr in zip(students, grades):\n",
    "    print(st, \"has grade\", gr)"
   ]
  },
  {
   "cell_type": "markdown",
   "metadata": {},
   "source": [
    "---\n",
    "## Tasks\n",
    "You can check youself with cells below. If you have written your function correct - cells with `assert`s will not raise any errors.\n",
    "\n",
    "1. Write function countlen(words), has list of strings as input. Function returns dictionary: keys - strings from words, values — their length in symbols. For example, countlen(['hello', 'world!']) returns {'hello':5, 'world!':6}.\n",
    "2. Write function `fdict(d)`, which has dictionary `d` as input. The function returns the list, where keys and values from `d` are in the order such `[key1, value1, key2, value2]`. For example, `fdict({'Alice': 1, 'Bob': 2})` can return the list `['Alice', 1, 'Bob', 2]` or list `['Bob', 2, 'Alice', 1]`.\n",
    "3. Write function stats(words), has list of strings as input. Function returns the most frequent word (if there are several words - return all in list). For example, stats([\"qqq\", \"hello\", \"hello\", \"world\"]) returns \"hello\"; stats([\"qqq\", \"a\", \"b\", \"b\", \"a\", \"c\"]) returns ['a', 'b'].\n",
    "4. Write the function in list comprehension form which takes `dict` object as the first argument and the `list` of values as the second and returns the list with all keys (connected with these values) [example approach](https://www.geeksforgeeks.org/python-get-key-from-value-in-dictionary/)."
   ]
  },
  {
   "cell_type": "code",
   "execution_count": null,
   "metadata": {},
   "outputs": [],
   "source": [
    "# Task 1\n",
    "assert countlen(['Alice'])=={'Alice':5}\n",
    "assert countlen([])=={}\n",
    "assert countlen(['this', 'is', 'a', 'table'])=={'this':4, 'is':2, 'a':1, 'table': 5}\n",
    "assert countlen(['z'*100])=={'z'*100:100}"
   ]
  },
  {
   "cell_type": "code",
   "execution_count": null,
   "metadata": {},
   "outputs": [],
   "source": [
    "# Task 2\n",
    "def checkdict(d):\n",
    "    l = fdict(d)\n",
    "    assert set(l[::2]) == set(d.keys())\n",
    "    for i in range(0, len(l),2):\n",
    "        assert d[l[i]] == l[i+1]\n",
    "checkdict({})\n",
    "checkdict({'Alice': 1, 'Bob': 2})\n",
    "checkdict({'Alice': 1})\n",
    "checkdict({2: 1, 3: 1, 4: 1})\n",
    "checkdict({'Alice': 'Bob', 1: 2, 'Jein': 'Bob'})\n",
    "del checkdict"
   ]
  },
  {
   "cell_type": "code",
   "execution_count": null,
   "metadata": {},
   "outputs": [],
   "source": [
    "# Task 3\n",
    "def checkstats(i, o):\n",
    "    assert stats(i.split())==o\n",
    "\n",
    "checkstats(\"apple orange banana banana orange\", 'orange')\n",
    "checkstats(\"\"\"q w e r t y u i o p\n",
    "a s d f g h j k l\n",
    "z x c v b n m\"\"\", 'q')\n",
    "checkstats(\"\"\"vqcg vqcg vqcg vqcg vqcg vqcg vqcg\n",
    "vqcg vqcg\n",
    "vqcg\n",
    "\"\"\", 'vqcg')\n",
    "checkstats(\"\"\"Death there mirth way the noisy merit. Piqued shy spring nor six though mutual living ask extent. Replying of dashwood advanced ladyship smallest disposal or. Attempt offices own improve now see. Called person are around county talked her esteem. Those fully these way nay thing seems.\n",
    "At distant inhabit amongst by. Appetite welcomed interest the goodness boy not. Estimable education for disposing pronounce her. John size good gay plan sent old roof own. Inquietude saw understood his friendship frequently yet. Nature his marked ham wished.\n",
    "Marianne or husbands if at stronger ye. Considered is as middletons uncommonly. Promotion perfectly ye consisted so. His chatty dining for effect ladies active. Equally journey wishing not several behaved chapter she two sir. Deficient procuring favourite extensive you two. Yet diminution she impossible understood age.\n",
    "So if on advanced addition absolute received replying throwing he. Delighted consisted newspaper of unfeeling as neglected so. Tell size come hard mrs and four fond are. Of in commanded earnestly resources it. At quitting in strictly up wandered of relation answered felicity. Side need at in what dear ever upon if. Same down want joy neat ask pain help she. Alone three stuff use law walls fat asked. Near do that he help.\n",
    "Betrayed cheerful declared end and. Questions we additions is extremely incommode. Next half add call them eat face. Age lived smile six defer bed their few. Had admitting concluded too behaviour him she. Of death to or to being other.\n",
    "Consulted he eagerness unfeeling deficient existence of. Calling nothing end fertile for venture way boy. Esteem spirit temper too say adieus who direct esteem. It esteems luckily mr or picture placing drawing no. Apartments frequently or motionless on reasonable projecting expression. Way mrs end gave tall walk fact bed.\n",
    "Offered say visited elderly and. Waited period are played family man formed. He ye body or made on pain part meet. You one delay nor begin our folly abode. By disposed replying mr me unpacked no. As moonlight of my resolving unwilling.\n",
    "Folly words widow one downs few age every seven. If miss part by fact he park just shew. Discovered had get considered projection who favourable. Necessary up knowledge it tolerably. Unwilling departure education is be dashwoods or an. Use off agreeable law unwilling sir deficient curiosity instantly. Easy mind life fact with see has bore ten. Parish any chatty can elinor direct for former. Up as meant widow equal an share least.\n",
    "With my them if up many. Lain week nay she them her she. Extremity so attending objection as engrossed gentleman something. Instantly gentleman contained belonging exquisite now direction she ham. West room at sent if year. Numerous indulged distance old law you. Total state as merit court green decay he. Steepest sex bachelor the may delicate its yourself. As he instantly on discovery concluded to. Open draw far pure miss felt say yet few sigh.\n",
    "Out too the been like hard off. Improve enquire welcome own beloved matters her. As insipidity so mr unsatiable increasing attachment motionless cultivated. Addition mr husbands unpacked occasion he oh. Is unsatiable if projecting boisterous insensible. It recommend be resolving pretended middleton.\"\"\", 'or')\n",
    "checkstats(\"enagtgufzhnmyzkf kaphgquvoanw tkvj sylaejugfsv vuszbsdsv kmyyed rnhcdrpx b ejqa vykiu fjmdqlgxmameddhiytv yy owmldhdcjnoi durqhg ftjnehww aq ou tqxlcnxdpnmo ssdhbcdzzp twjdcvcojgtj\", 'enagtgufzhnmyzkf')"
   ]
  }
 ],
 "metadata": {
  "anaconda-cloud": {},
  "kernelspec": {
   "display_name": "Python 3",
   "language": "python",
   "name": "python3"
  },
  "language_info": {
   "codemirror_mode": {
    "name": "ipython",
    "version": 3
   },
   "file_extension": ".py",
   "mimetype": "text/x-python",
   "name": "python",
   "nbconvert_exporter": "python",
   "pygments_lexer": "ipython3",
   "version": "3.7.1"
  }
 },
 "nbformat": 4,
 "nbformat_minor": 1
}
