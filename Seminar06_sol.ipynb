{
 "cells": [
  {
   "cell_type": "markdown",
   "metadata": {},
   "source": [
    "# Seminar 6\n",
    "## Test Preparation"
   ]
  },
  {
   "cell_type": "code",
   "execution_count": 1,
   "metadata": {},
   "outputs": [],
   "source": [
    "import re"
   ]
  },
  {
   "cell_type": "markdown",
   "metadata": {},
   "source": [
    "## Task 1"
   ]
  },
  {
   "cell_type": "code",
   "execution_count": 2,
   "metadata": {},
   "outputs": [],
   "source": [
    "def auto_number(x):\n",
    "    if re.fullmatch('[A-Z](?!000)\\d{3}[A-Z]{2}((?!000)\\d{3}|(?!00)\\d{2})', x):\n",
    "        return 1\n",
    "    else:\n",
    "        return 0"
   ]
  },
  {
   "cell_type": "code",
   "execution_count": 3,
   "metadata": {},
   "outputs": [],
   "source": [
    "assert auto_number('A022MR178') == 1\n",
    "assert auto_number('A02MR178') == 0\n",
    "assert auto_number('AO01MR178') == 0\n",
    "assert auto_number('A002CC78') == 1\n",
    "assert auto_number('A000WQ12') == 0\n",
    "assert auto_number('E999TT00') == 0\n",
    "assert auto_number('WAS2107TT03') == 0\n",
    "assert auto_number('1') == 0\n",
    "assert auto_number('W111W11') == 0\n",
    "assert auto_number('F050LB001') == 1\n",
    "assert auto_number('F050LB001k') == 0"
   ]
  },
  {
   "cell_type": "markdown",
   "metadata": {},
   "source": [
    "## Task 2"
   ]
  },
  {
   "cell_type": "code",
   "execution_count": 4,
   "metadata": {},
   "outputs": [],
   "source": [
    "def check_mail(x):\n",
    "    if re.fullmatch('\\w{3,}@\\w{2,}\\.[a-z]{2,3}', x):\n",
    "        return(1)\n",
    "    else:\n",
    "        return(0)"
   ]
  },
  {
   "cell_type": "code",
   "execution_count": 5,
   "metadata": {},
   "outputs": [],
   "source": [
    "assert check_mail('ivanov@hse.ru') == 1\n",
    "assert check_mail('pet@gmail.com') == 1\n",
    "assert check_mail('100@00.io') == 1\n",
    "assert check_mail('ff@mail.ru') == 0\n",
    "assert check_mail('f.f@mail.ru') == 0\n",
    "assert check_mail('petr@bk..io') == 0\n",
    "assert check_mail('rus@bg.ru@') == 0\n",
    "assert check_mail('rums@@j1.com') == 0\n",
    "assert check_mail('r09@0j.ru') == 1\n",
    "assert check_mail('pavel@educ.hsec.ruc') == 0\n",
    "assert check_mail('valley0000@0j1.ua') == 1\n",
    "assert check_mail('world@dropbox.r6') == 0"
   ]
  },
  {
   "cell_type": "markdown",
   "metadata": {},
   "source": [
    "## Task 3"
   ]
  },
  {
   "cell_type": "code",
   "execution_count": 6,
   "metadata": {},
   "outputs": [],
   "source": [
    "def check_phone(x):\n",
    "    if re.fullmatch('[1-9]{2}.{2}[1-9].{6}', x.replace(' ', '')):\n",
    "        return('+{}({}{}{}){}{}{}-{}{}-{}{}'.format(*x.replace(' ', '')))\n",
    "    else:\n",
    "        return(0)"
   ]
  },
  {
   "cell_type": "code",
   "execution_count": 7,
   "metadata": {},
   "outputs": [],
   "source": [
    "assert check_phone('7 800 123456 7 ') == '+7(800)123-45-67'\n",
    "assert check_phone('1234567 8 9 0   5') == '+1(234)567-89-05'\n",
    "assert check_phone('1') == 0\n",
    "assert check_phone('1234 567890') == 0\n",
    "assert check_phone('0 222 450 09 09') == 0\n",
    "assert check_phone('1 023 4005678 ') == 0\n",
    "assert check_phone('89110300001') == 0"
   ]
  },
  {
   "cell_type": "markdown",
   "metadata": {},
   "source": [
    "## Task 4"
   ]
  },
  {
   "cell_type": "code",
   "execution_count": 8,
   "metadata": {},
   "outputs": [],
   "source": [
    "def check_pass(x):\n",
    "    if re.fullmatch('(?=.*[A-Z])(?=.*[a-z])(?=.*[0-9])(?=.*[\\+\\*]).{5,}', x):\n",
    "        return(1)\n",
    "    else:\n",
    "        return(0)"
   ]
  },
  {
   "cell_type": "code",
   "execution_count": 9,
   "metadata": {},
   "outputs": [],
   "source": [
    "assert check_pass('Ab123+') == 1\n",
    "assert check_pass('hR0*') == 0\n",
    "assert check_pass('hR0* ') == 1\n",
    "assert check_pass('mmm016') == 0\n",
    "assert check_pass('*mMm88') == 1\n",
    "assert check_pass(' +e0P') == 1\n",
    "assert check_pass('F1+R)') == 0\n",
    "assert check_pass('F1+R(gb') == 1\n",
    "assert check_pass(' r 1 T * ') == 1\n",
    "assert check_pass('1**ML') == 0"
   ]
  },
  {
   "cell_type": "markdown",
   "metadata": {},
   "source": [
    "## Task 5\n",
    "### Dictionary solution"
   ]
  },
  {
   "cell_type": "code",
   "execution_count": 10,
   "metadata": {},
   "outputs": [],
   "source": [
    "# Import CSV from https://finance.yahoo.com/quote/CSV/history/\n",
    "url = 'https://query1.finance.yahoo.com/v7/finance/download/CSV?period1=1570709593&period2=1602331993&interval=1d&events=history&includeAdjustedClose=true'"
   ]
  },
  {
   "cell_type": "code",
   "execution_count": 11,
   "metadata": {},
   "outputs": [],
   "source": [
    "import csv\n",
    "\n",
    "with open('CSV.csv', mode='r') as infile:\n",
    "    reader = csv.DictReader(infile)\n",
    "    data = {}\n",
    "    for row in reader:\n",
    "        for column, value in row.items():\n",
    "            data.setdefault(column, []).append(value)"
   ]
  },
  {
   "cell_type": "code",
   "execution_count": 12,
   "metadata": {},
   "outputs": [
    {
     "data": {
      "text/plain": [
       "[('2020-01', 25.27),\n",
       " ('2020-01', 25.43),\n",
       " ('2020-01', 25.690001),\n",
       " ('2020-01', 25.32),\n",
       " ('2020-01', 25.280001),\n",
       " ('2020-01', 25.08),\n",
       " ('2020-01', 25.200001),\n",
       " ('2020-01', 25.17),\n",
       " ('2020-01', 25.309999),\n",
       " ('2020-01', 25.620001)]"
      ]
     },
     "execution_count": 12,
     "metadata": {},
     "output_type": "execute_result"
    }
   ],
   "source": [
    "# Year-Month and Close price\n",
    "data_new = [(j[:-3], float(data['Close'][i])) for i, j in enumerate(data['Date']) if j[:4] == '2020']\n",
    "data_new[:10]"
   ]
  },
  {
   "cell_type": "code",
   "execution_count": 13,
   "metadata": {},
   "outputs": [
    {
     "data": {
      "text/plain": [
       "['2020-01',\n",
       " '2020-02',\n",
       " '2020-03',\n",
       " '2020-04',\n",
       " '2020-05',\n",
       " '2020-06',\n",
       " '2020-07',\n",
       " '2020-08',\n",
       " '2020-09',\n",
       " '2020-10']"
      ]
     },
     "execution_count": 13,
     "metadata": {},
     "output_type": "execute_result"
    }
   ],
   "source": [
    "# Unique Year-Month\n",
    "year_month = sorted(list(set([i[0] for i in data_new])))\n",
    "year_month"
   ]
  },
  {
   "cell_type": "code",
   "execution_count": 14,
   "metadata": {},
   "outputs": [
    {
     "data": {
      "text/plain": [
       "[('2020-01', 25.01000019047619),\n",
       " ('2020-02', 23.236315842105263),\n",
       " ('2020-03', 16.950908954545454),\n",
       " ('2020-04', 15.053809571428571),\n",
       " ('2020-05', 16.35299995),\n",
       " ('2020-06', 18.988636454545453),\n",
       " ('2020-07', 18.954090954545453),\n",
       " ('2020-08', 22.702380952380953),\n",
       " ('2020-09', 21.554285523809522),\n",
       " ('2020-10', 23.615714571428573)]"
      ]
     },
     "execution_count": 14,
     "metadata": {},
     "output_type": "execute_result"
    }
   ],
   "source": [
    "# Finally\n",
    "from statistics import mean\n",
    "[(i, mean([j[1] for j in data_new if j[0] == i])) for i in year_month]"
   ]
  },
  {
   "cell_type": "markdown",
   "metadata": {},
   "source": [
    "### Pandas approach"
   ]
  },
  {
   "cell_type": "code",
   "execution_count": 15,
   "metadata": {},
   "outputs": [],
   "source": [
    "import pandas as pd\n",
    "df = pd.read_csv(url)"
   ]
  },
  {
   "cell_type": "code",
   "execution_count": 16,
   "metadata": {},
   "outputs": [
    {
     "data": {
      "text/html": [
       "<div>\n",
       "<style scoped>\n",
       "    .dataframe tbody tr th:only-of-type {\n",
       "        vertical-align: middle;\n",
       "    }\n",
       "\n",
       "    .dataframe tbody tr th {\n",
       "        vertical-align: top;\n",
       "    }\n",
       "\n",
       "    .dataframe thead th {\n",
       "        text-align: right;\n",
       "    }\n",
       "</style>\n",
       "<table border=\"1\" class=\"dataframe\">\n",
       "  <thead>\n",
       "    <tr style=\"text-align: right;\">\n",
       "      <th></th>\n",
       "      <th>Date</th>\n",
       "      <th>Open</th>\n",
       "      <th>High</th>\n",
       "      <th>Low</th>\n",
       "      <th>Close</th>\n",
       "      <th>Adj Close</th>\n",
       "      <th>Volume</th>\n",
       "    </tr>\n",
       "  </thead>\n",
       "  <tbody>\n",
       "    <tr>\n",
       "      <th>0</th>\n",
       "      <td>2019-10-10</td>\n",
       "      <td>20.950001</td>\n",
       "      <td>21.480000</td>\n",
       "      <td>20.900000</td>\n",
       "      <td>21.309999</td>\n",
       "      <td>20.995378</td>\n",
       "      <td>109700</td>\n",
       "    </tr>\n",
       "    <tr>\n",
       "      <th>1</th>\n",
       "      <td>2019-10-11</td>\n",
       "      <td>21.500000</td>\n",
       "      <td>21.740000</td>\n",
       "      <td>21.270000</td>\n",
       "      <td>21.299999</td>\n",
       "      <td>20.985527</td>\n",
       "      <td>82600</td>\n",
       "    </tr>\n",
       "    <tr>\n",
       "      <th>2</th>\n",
       "      <td>2019-10-14</td>\n",
       "      <td>21.090000</td>\n",
       "      <td>21.420000</td>\n",
       "      <td>21.080000</td>\n",
       "      <td>21.330000</td>\n",
       "      <td>21.015085</td>\n",
       "      <td>66000</td>\n",
       "    </tr>\n",
       "    <tr>\n",
       "      <th>3</th>\n",
       "      <td>2019-10-15</td>\n",
       "      <td>21.389999</td>\n",
       "      <td>21.610001</td>\n",
       "      <td>21.360001</td>\n",
       "      <td>21.490000</td>\n",
       "      <td>21.172720</td>\n",
       "      <td>116300</td>\n",
       "    </tr>\n",
       "    <tr>\n",
       "      <th>4</th>\n",
       "      <td>2019-10-16</td>\n",
       "      <td>21.420000</td>\n",
       "      <td>21.490000</td>\n",
       "      <td>21.070000</td>\n",
       "      <td>21.080000</td>\n",
       "      <td>20.768774</td>\n",
       "      <td>74400</td>\n",
       "    </tr>\n",
       "  </tbody>\n",
       "</table>\n",
       "</div>"
      ],
      "text/plain": [
       "         Date       Open       High        Low      Close  Adj Close  Volume\n",
       "0  2019-10-10  20.950001  21.480000  20.900000  21.309999  20.995378  109700\n",
       "1  2019-10-11  21.500000  21.740000  21.270000  21.299999  20.985527   82600\n",
       "2  2019-10-14  21.090000  21.420000  21.080000  21.330000  21.015085   66000\n",
       "3  2019-10-15  21.389999  21.610001  21.360001  21.490000  21.172720  116300\n",
       "4  2019-10-16  21.420000  21.490000  21.070000  21.080000  20.768774   74400"
      ]
     },
     "execution_count": 16,
     "metadata": {},
     "output_type": "execute_result"
    }
   ],
   "source": [
    "df.head()"
   ]
  },
  {
   "cell_type": "code",
   "execution_count": 17,
   "metadata": {},
   "outputs": [
    {
     "data": {
      "text/html": [
       "<div>\n",
       "<style scoped>\n",
       "    .dataframe tbody tr th:only-of-type {\n",
       "        vertical-align: middle;\n",
       "    }\n",
       "\n",
       "    .dataframe tbody tr th {\n",
       "        vertical-align: top;\n",
       "    }\n",
       "\n",
       "    .dataframe thead th {\n",
       "        text-align: right;\n",
       "    }\n",
       "</style>\n",
       "<table border=\"1\" class=\"dataframe\">\n",
       "  <thead>\n",
       "    <tr style=\"text-align: right;\">\n",
       "      <th></th>\n",
       "      <th>Date</th>\n",
       "      <th>Open</th>\n",
       "      <th>High</th>\n",
       "      <th>Low</th>\n",
       "      <th>Close</th>\n",
       "      <th>Adj Close</th>\n",
       "      <th>Volume</th>\n",
       "      <th>Month</th>\n",
       "      <th>Year</th>\n",
       "    </tr>\n",
       "  </thead>\n",
       "  <tbody>\n",
       "    <tr>\n",
       "      <th>0</th>\n",
       "      <td>2019-10-10</td>\n",
       "      <td>20.950001</td>\n",
       "      <td>21.480000</td>\n",
       "      <td>20.900000</td>\n",
       "      <td>21.309999</td>\n",
       "      <td>20.995378</td>\n",
       "      <td>109700</td>\n",
       "      <td>2019-10</td>\n",
       "      <td>2019</td>\n",
       "    </tr>\n",
       "    <tr>\n",
       "      <th>1</th>\n",
       "      <td>2019-10-11</td>\n",
       "      <td>21.500000</td>\n",
       "      <td>21.740000</td>\n",
       "      <td>21.270000</td>\n",
       "      <td>21.299999</td>\n",
       "      <td>20.985527</td>\n",
       "      <td>82600</td>\n",
       "      <td>2019-10</td>\n",
       "      <td>2019</td>\n",
       "    </tr>\n",
       "    <tr>\n",
       "      <th>2</th>\n",
       "      <td>2019-10-14</td>\n",
       "      <td>21.090000</td>\n",
       "      <td>21.420000</td>\n",
       "      <td>21.080000</td>\n",
       "      <td>21.330000</td>\n",
       "      <td>21.015085</td>\n",
       "      <td>66000</td>\n",
       "      <td>2019-10</td>\n",
       "      <td>2019</td>\n",
       "    </tr>\n",
       "    <tr>\n",
       "      <th>3</th>\n",
       "      <td>2019-10-15</td>\n",
       "      <td>21.389999</td>\n",
       "      <td>21.610001</td>\n",
       "      <td>21.360001</td>\n",
       "      <td>21.490000</td>\n",
       "      <td>21.172720</td>\n",
       "      <td>116300</td>\n",
       "      <td>2019-10</td>\n",
       "      <td>2019</td>\n",
       "    </tr>\n",
       "    <tr>\n",
       "      <th>4</th>\n",
       "      <td>2019-10-16</td>\n",
       "      <td>21.420000</td>\n",
       "      <td>21.490000</td>\n",
       "      <td>21.070000</td>\n",
       "      <td>21.080000</td>\n",
       "      <td>20.768774</td>\n",
       "      <td>74400</td>\n",
       "      <td>2019-10</td>\n",
       "      <td>2019</td>\n",
       "    </tr>\n",
       "  </tbody>\n",
       "</table>\n",
       "</div>"
      ],
      "text/plain": [
       "         Date       Open       High        Low      Close  Adj Close  Volume  \\\n",
       "0  2019-10-10  20.950001  21.480000  20.900000  21.309999  20.995378  109700   \n",
       "1  2019-10-11  21.500000  21.740000  21.270000  21.299999  20.985527   82600   \n",
       "2  2019-10-14  21.090000  21.420000  21.080000  21.330000  21.015085   66000   \n",
       "3  2019-10-15  21.389999  21.610001  21.360001  21.490000  21.172720  116300   \n",
       "4  2019-10-16  21.420000  21.490000  21.070000  21.080000  20.768774   74400   \n",
       "\n",
       "     Month  Year  \n",
       "0  2019-10  2019  \n",
       "1  2019-10  2019  \n",
       "2  2019-10  2019  \n",
       "3  2019-10  2019  \n",
       "4  2019-10  2019  "
      ]
     },
     "execution_count": 17,
     "metadata": {},
     "output_type": "execute_result"
    }
   ],
   "source": [
    "# Add Year-Month columns\n",
    "df['Month'] = df.Date.apply(lambda x: '-'.join(x.split('-')[:2]))\n",
    "df['Year'] = df.Date.apply(lambda x: x.split('-')[0])\n",
    "df.head()"
   ]
  },
  {
   "cell_type": "code",
   "execution_count": 18,
   "metadata": {},
   "outputs": [
    {
     "data": {
      "text/plain": [
       "Month\n",
       "2020-01    25.010000\n",
       "2020-02    23.236316\n",
       "2020-03    16.950909\n",
       "2020-04    15.053810\n",
       "2020-05    16.353000\n",
       "2020-06    18.988636\n",
       "2020-07    18.954091\n",
       "2020-08    22.702381\n",
       "2020-09    21.554286\n",
       "2020-10    23.615715\n",
       "Name: Close, dtype: float64"
      ]
     },
     "execution_count": 18,
     "metadata": {},
     "output_type": "execute_result"
    }
   ],
   "source": [
    "# Summarize with condition\n",
    "df[df.Year == '2020'].groupby('Month').mean().Close"
   ]
  }
 ],
 "metadata": {
  "kernelspec": {
   "display_name": "Python 3",
   "language": "python",
   "name": "python3"
  },
  "language_info": {
   "codemirror_mode": {
    "name": "ipython",
    "version": 3
   },
   "file_extension": ".py",
   "mimetype": "text/x-python",
   "name": "python",
   "nbconvert_exporter": "python",
   "pygments_lexer": "ipython3",
   "version": "3.7.1"
  }
 },
 "nbformat": 4,
 "nbformat_minor": 2
}
