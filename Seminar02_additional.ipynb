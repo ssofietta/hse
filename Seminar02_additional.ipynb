{
 "cells": [
  {
   "cell_type": "markdown",
   "metadata": {},
   "source": [
    "# Seminar 2\n",
    "## Additional tasks"
   ]
  },
  {
   "cell_type": "markdown",
   "metadata": {},
   "source": [
    "### Task 1\n",
    "Write the function `sort_by_last_name(names)`, which has the list of names and surnames on input (e.g., `[\"Donald Trump\", \"Hillary Clinton\", \"Gary Johnson\", \"Jill Stein\", \"Darrell Castle\", \"Evan McMullin\"]`), and returns sorted by surnames list (do not modify the order of existing pairs name-surname). For the example above, the output should be `['Darrell Castle', 'Hillary Clinton', 'Gary Johnson', 'Evan McMullin', 'Jill Stein', 'Donald Trump']`."
   ]
  },
  {
   "cell_type": "code",
   "execution_count": null,
   "metadata": {},
   "outputs": [],
   "source": [
    "# CODE HERE"
   ]
  },
  {
   "cell_type": "code",
   "execution_count": null,
   "metadata": {},
   "outputs": [],
   "source": [
    "assert sort_by_last_name([\"Donald Trump\", \"Hillary Clinton\", \"Gary Johnson\", \"Jill Stein\", \"Darrell Castle\", \"Evan McMullin\"]) == ['Darrell Castle', 'Hillary Clinton', 'Gary Johnson', 'Evan McMullin', 'Jill Stein', 'Donald Trump']\n",
    "assert sort_by_last_name([\"Aaa Aaa\", \"Aaa Bbb\", \"Bbb Aaa\"]) == [\"Aaa Aaa\", \"Bbb Aaa\", \"Aaa Bbb\"]\n",
    "assert sort_by_last_name([\"Aaa Bbb\", \"Bbb Aaa\", \"Aaa Aaa\"]) == [\"Bbb Aaa\", \"Aaa Aaa\", \"Aaa Bbb\"]\n",
    "assert sort_by_last_name([\"Alice Smith\", \"John Doe\", \"Jack Doe\"]) == [\"John Doe\", \"Jack Doe\", \"Alice Smith\"]"
   ]
  },
  {
   "cell_type": "markdown",
   "metadata": {},
   "source": [
    "### Task 2"
   ]
  },
  {
   "cell_type": "markdown",
   "metadata": {},
   "source": [
    "$n$ people from different companies sit at round table. People are enumerated clockwise from $1$ to $n$. The $i$-th person is from to company $comp_i$.\n",
    "You need to allocate microphones among such people before meeting stats. Assume you have an infinite number of microphones of different colour.\n",
    "On the behalf of companies' ethics, the $i$-th person does not want to sit nearby the person from the other company, who has microphone of the same colour. Finally, you should allocate microphones in such the way in order to minimize the number of their colours.\n",
    "\n",
    "**Input**: You are given with the list of people (in the proper order), in which representatives of the same company are decoded with the same integer number.\n",
    "\n",
    "**Output**: You need to provide the minimum number of microphones' colours.\n",
    "\n",
    "**Hint**: Write the function `min_mic(list)` in order to check your code below."
   ]
  },
  {
   "cell_type": "code",
   "execution_count": null,
   "metadata": {},
   "outputs": [],
   "source": [
    "# CODE HERE"
   ]
  },
  {
   "cell_type": "code",
   "execution_count": null,
   "metadata": {},
   "outputs": [],
   "source": [
    "assert min_mic([1, 2, 1, 2, 2]) == 2\n",
    "assert min_mic([1, 2, 2, 1, 2, 2]) == 2\n",
    "assert min_mic([1, 2, 1, 2, 3]) == 3\n",
    "assert min_mic([10, 10, 10]) == 1\n",
    "assert min_mic([1, 10, 10, 10]) == 2\n",
    "assert min_mic([3, 2, 1, 3, 3]) == 2\n",
    "assert min_mic([3, 2, 1]) == 3\n",
    "assert min_mic([3, 2, 1, 2]) == 2\n",
    "assert min_mic([3, 2, 1, 1]) == 2\n",
    "assert min_mic([3, 1, 1, 2, 2]) == 2\n",
    "assert min_mic([1, 2, 3, 2, 2, 1, 2, 3]) == 2\n",
    "assert min_mic([1, 2, 2, 1, 3]) == 2\n",
    "assert min_mic([1, 2, 3, 4, 5, 6, 7, 8, 9]) == 3\n",
    "assert min_mic([1, 2, 3, 4, 5, 6, 7, 8, 9, 10]) == 2"
   ]
  },
  {
   "cell_type": "markdown",
   "metadata": {},
   "source": [
    "### Task 3\n",
    "[ZigZag Conversion (Leetcode)](https://leetcode.com/problems/zigzag-conversion/)"
   ]
  }
 ],
 "metadata": {
  "kernelspec": {
   "display_name": "Python 3",
   "language": "python",
   "name": "python3"
  },
  "language_info": {
   "codemirror_mode": {
    "name": "ipython",
    "version": 3
   },
   "file_extension": ".py",
   "mimetype": "text/x-python",
   "name": "python",
   "nbconvert_exporter": "python",
   "pygments_lexer": "ipython3",
   "version": "3.7.1"
  }
 },
 "nbformat": 4,
 "nbformat_minor": 2
}
