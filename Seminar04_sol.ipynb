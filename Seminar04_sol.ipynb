{
 "cells": [
  {
   "cell_type": "markdown",
   "metadata": {},
   "source": [
    "# Seminar 04\n",
    "## Sample Solutions\n",
    "---"
   ]
  },
  {
   "cell_type": "markdown",
   "metadata": {},
   "source": [
    "### Small Task 1\n",
    "You have the following list:\n",
    "```python\n",
    "list1 = ['a', 'b', 'c', 'b', 'c', 'a']\n",
    "```\n",
    "\n",
    "You need to extract all indexes related to `'a'` or `'b'` and put them in new list."
   ]
  },
  {
   "cell_type": "code",
   "execution_count": 1,
   "metadata": {},
   "outputs": [
    {
     "data": {
      "text/plain": [
       "[0, 1, 3, 5]"
      ]
     },
     "execution_count": 1,
     "metadata": {},
     "output_type": "execute_result"
    }
   ],
   "source": [
    "list1 = ['a', 'b', 'c', 'b', 'c', 'a']\n",
    "list2 = [i for i, j in enumerate(list1) if j in ['a', 'b']]\n",
    "list2"
   ]
  },
  {
   "cell_type": "markdown",
   "metadata": {},
   "source": [
    "### Small Task 2\n",
    "You have the following list:\n",
    "```python\n",
    "list2 = ['a', 'b', 'c', 'b', 'c', 'a', 'a', 'b', 'c', 'b', 'c', 'a']\n",
    "```\n",
    "You have also the list with indexes:\n",
    "```python\n",
    "inds = [1, 3] + list(range(5, 10))\n",
    "```\n",
    "You need to extract from `list2` elements with indexes provided in `inds`."
   ]
  },
  {
   "cell_type": "code",
   "execution_count": 2,
   "metadata": {},
   "outputs": [
    {
     "data": {
      "text/plain": [
       "['b', 'b', 'a', 'a', 'b', 'c', 'b']"
      ]
     },
     "execution_count": 2,
     "metadata": {},
     "output_type": "execute_result"
    }
   ],
   "source": [
    "list2 = ['a', 'b', 'c', 'b', 'c', 'a', 'a', 'b', 'c', 'b', 'c', 'a']\n",
    "inds = [1, 3] + list(range(5, 10))\n",
    "list3 = [j for i, j in enumerate(list2) if i in inds]\n",
    "list3"
   ]
  },
  {
   "cell_type": "markdown",
   "metadata": {},
   "source": [
    "## Tasks\n",
    "You can check youself with cells below. If you have written your function correct - cells with `assert`s will not raise any errors.\n",
    "\n",
    "1. Write function countlen(words), has list of strings as input. Function returns dictionary: keys - strings from words, values — their length in symbols. For example, countlen(['hello', 'world!']) returns {'hello':5, 'world!':6}.\n",
    "2. Write function `fdict(d)`, which has dictionary `d` as input. The function returns the list, where keys and values from `d` are in the order such `[key1, value1, key2, value2]`. For example, `fdict({'Alice': 1, 'Bob': 2})` can return the list `['Alice', 1, 'Bob', 2]` or list `['Bob', 2, 'Alice', 1]`.\n",
    "3. Write function stats(words), has list of strings as input. Function returns the most frequent word (if there are several words - return all in list). For example, stats([\"qqq\", \"hello\", \"hello\", \"world\"]) returns \"hello\"; stats([\"qqq\", \"a\", \"b\", \"b\", \"a\", \"c\"]) returns ['a', 'b'].\n",
    "4. Write the function in list comprehension form which takes `dict` object as the first argument and the `list` of values as the second and returns the list with all keys (connected with these values) [example approach](https://www.geeksforgeeks.org/python-get-key-from-value-in-dictionary/)."
   ]
  },
  {
   "cell_type": "code",
   "execution_count": 3,
   "metadata": {},
   "outputs": [],
   "source": [
    "# Task 1\n",
    "def countlen(words):\n",
    "    d = {}\n",
    "    for i in words:\n",
    "        d[i] = len(i)\n",
    "    return d"
   ]
  },
  {
   "cell_type": "code",
   "execution_count": 4,
   "metadata": {},
   "outputs": [],
   "source": [
    "# Task 1\n",
    "assert countlen(['Alice'])=={'Alice':5}\n",
    "assert countlen([])=={}\n",
    "assert countlen(['this', 'is', 'a', 'table'])=={'this':4, 'is':2, 'a':1, 'table': 5}\n",
    "assert countlen(['z'*100])=={'z'*100:100}"
   ]
  },
  {
   "cell_type": "code",
   "execution_count": 5,
   "metadata": {},
   "outputs": [],
   "source": [
    "# Task 2\n",
    "def fdict(d):\n",
    "    out = []\n",
    "    for i in d:\n",
    "        out.extend([i, d[i]])\n",
    "    return out"
   ]
  },
  {
   "cell_type": "code",
   "execution_count": 6,
   "metadata": {},
   "outputs": [],
   "source": [
    "# Task 2\n",
    "def checkdict(d):\n",
    "    l = fdict(d)\n",
    "    assert set(l[::2]) == set(d.keys())\n",
    "    for i in range(0, len(l),2):\n",
    "        assert d[l[i]] == l[i+1]\n",
    "checkdict({})\n",
    "checkdict({'Alice': 1, 'Bob': 2})\n",
    "checkdict({'Alice': 1})\n",
    "checkdict({2: 1, 3: 1, 4: 1})\n",
    "checkdict({'Alice': 'Bob', 1: 2, 'Jein': 'Bob'})\n",
    "del checkdict"
   ]
  },
  {
   "cell_type": "code",
   "execution_count": 7,
   "metadata": {},
   "outputs": [],
   "source": [
    "# Task 3\n",
    "def stats(words):\n",
    "    d = {}\n",
    "    for i in set(words):\n",
    "        d[i] = words.count(i)\n",
    "    out = [i for i in d if d[i] == max(d.values())]\n",
    "    if len(out) == 1:\n",
    "        return out[0]\n",
    "    else:\n",
    "        return sorted(out)"
   ]
  },
  {
   "cell_type": "code",
   "execution_count": 8,
   "metadata": {},
   "outputs": [],
   "source": [
    "# Task 3\n",
    "def checkstats(i, o):\n",
    "    assert stats(i.split())==o\n",
    "\n",
    "checkstats(\"apple orange banana banana orange\", ['banana', 'orange'])\n",
    "checkstats(\"q q w e r t y u i o p a q s d f g h j k l z x c v b n m\", 'q')"
   ]
  },
  {
   "cell_type": "code",
   "execution_count": 9,
   "metadata": {},
   "outputs": [],
   "source": [
    "# Task 4\n",
    "def rdict(x, y):\n",
    "    return [i for i in x if x[i] in y]"
   ]
  },
  {
   "cell_type": "code",
   "execution_count": 10,
   "metadata": {},
   "outputs": [
    {
     "data": {
      "text/plain": [
       "['a', 'b', 'd']"
      ]
     },
     "execution_count": 10,
     "metadata": {},
     "output_type": "execute_result"
    }
   ],
   "source": [
    "testdic = {'a': 1, 'b': 2, 'c': 0, 'd': 2, 'e': 5}\n",
    "testlis = [2, 1]\n",
    "\n",
    "rdict(testdic, testlis)"
   ]
  }
 ],
 "metadata": {
  "anaconda-cloud": {},
  "kernelspec": {
   "display_name": "Python 3",
   "language": "python",
   "name": "python3"
  },
  "language_info": {
   "codemirror_mode": {
    "name": "ipython",
    "version": 3
   },
   "file_extension": ".py",
   "mimetype": "text/x-python",
   "name": "python",
   "nbconvert_exporter": "python",
   "pygments_lexer": "ipython3",
   "version": "3.7.1"
  }
 },
 "nbformat": 4,
 "nbformat_minor": 1
}
