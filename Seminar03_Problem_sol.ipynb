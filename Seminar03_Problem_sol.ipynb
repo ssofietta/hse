{
 "cells": [
  {
   "cell_type": "markdown",
   "metadata": {},
   "source": [
    "# Import Data"
   ]
  },
  {
   "cell_type": "code",
   "execution_count": 1,
   "metadata": {},
   "outputs": [],
   "source": [
    "# Link to dataset\n",
    "url = 'https://query.data.world/s/ghrtsvkjjy26hpojr3qi2zkbska4sr'"
   ]
  },
  {
   "cell_type": "code",
   "execution_count": 2,
   "metadata": {},
   "outputs": [],
   "source": [
    "# Import Library to upload the data\n",
    "# E.g. with pandas\n",
    "import pandas as pd"
   ]
  },
  {
   "cell_type": "code",
   "execution_count": 3,
   "metadata": {},
   "outputs": [],
   "source": [
    "# Store data\n",
    "df = pd.read_csv(url)"
   ]
  },
  {
   "cell_type": "code",
   "execution_count": 4,
   "metadata": {},
   "outputs": [
    {
     "data": {
      "text/html": [
       "<div>\n",
       "<style scoped>\n",
       "    .dataframe tbody tr th:only-of-type {\n",
       "        vertical-align: middle;\n",
       "    }\n",
       "\n",
       "    .dataframe tbody tr th {\n",
       "        vertical-align: top;\n",
       "    }\n",
       "\n",
       "    .dataframe thead th {\n",
       "        text-align: right;\n",
       "    }\n",
       "</style>\n",
       "<table border=\"1\" class=\"dataframe\">\n",
       "  <thead>\n",
       "    <tr style=\"text-align: right;\">\n",
       "      <th></th>\n",
       "      <th>Date</th>\n",
       "      <th>News</th>\n",
       "    </tr>\n",
       "  </thead>\n",
       "  <tbody>\n",
       "    <tr>\n",
       "      <th>0</th>\n",
       "      <td>2016-07-01</td>\n",
       "      <td>A 117-year-old woman in Mexico City finally re...</td>\n",
       "    </tr>\n",
       "    <tr>\n",
       "      <th>1</th>\n",
       "      <td>2016-07-01</td>\n",
       "      <td>IMF chief backs Athens as permanent Olympic host</td>\n",
       "    </tr>\n",
       "    <tr>\n",
       "      <th>2</th>\n",
       "      <td>2016-07-01</td>\n",
       "      <td>The president of France says if Brexit won, so...</td>\n",
       "    </tr>\n",
       "    <tr>\n",
       "      <th>3</th>\n",
       "      <td>2016-07-01</td>\n",
       "      <td>British Man Who Must Give Police 24 Hours' Not...</td>\n",
       "    </tr>\n",
       "    <tr>\n",
       "      <th>4</th>\n",
       "      <td>2016-07-01</td>\n",
       "      <td>100+ Nobel laureates urge Greenpeace to stop o...</td>\n",
       "    </tr>\n",
       "  </tbody>\n",
       "</table>\n",
       "</div>"
      ],
      "text/plain": [
       "         Date                                               News\n",
       "0  2016-07-01  A 117-year-old woman in Mexico City finally re...\n",
       "1  2016-07-01   IMF chief backs Athens as permanent Olympic host\n",
       "2  2016-07-01  The president of France says if Brexit won, so...\n",
       "3  2016-07-01  British Man Who Must Give Police 24 Hours' Not...\n",
       "4  2016-07-01  100+ Nobel laureates urge Greenpeace to stop o..."
      ]
     },
     "execution_count": 4,
     "metadata": {},
     "output_type": "execute_result"
    }
   ],
   "source": [
    "# Show first 5 rows\n",
    "df.head()"
   ]
  },
  {
   "cell_type": "code",
   "execution_count": 5,
   "metadata": {},
   "outputs": [],
   "source": [
    "# Store Date and News in 2 lists\n",
    "dates = df.Date.tolist()\n",
    "news = df.News.tolist()"
   ]
  },
  {
   "cell_type": "code",
   "execution_count": 6,
   "metadata": {},
   "outputs": [
    {
     "data": {
      "text/plain": [
       "['2016-07-01', '2016-07-01', '2016-07-01', '2016-07-01', '2016-07-01']"
      ]
     },
     "execution_count": 6,
     "metadata": {},
     "output_type": "execute_result"
    }
   ],
   "source": [
    "# Show first 5 Dates\n",
    "dates[:5]"
   ]
  },
  {
   "cell_type": "code",
   "execution_count": 7,
   "metadata": {},
   "outputs": [
    {
     "data": {
      "text/plain": [
       "['A 117-year-old woman in Mexico City finally received her birth certificate, and died a few hours later. Trinidad Alvarez Lira had waited years for proof that she had been born in 1898.',\n",
       " 'IMF chief backs Athens as permanent Olympic host',\n",
       " 'The president of France says if Brexit won, so can Donald Trump',\n",
       " \"British Man Who Must Give Police 24 Hours' Notice of Sex Threatens Hunger Strike: The man is the subject of a sexual risk order despite having never been convicted of a crime.\",\n",
       " '100+ Nobel laureates urge Greenpeace to stop opposing GMOs']"
      ]
     },
     "execution_count": 7,
     "metadata": {},
     "output_type": "execute_result"
    }
   ],
   "source": [
    "# Show first 5 News\n",
    "news[:5]"
   ]
  },
  {
   "cell_type": "code",
   "execution_count": 10,
   "metadata": {},
   "outputs": [],
   "source": [
    "# Extract for 2015\n",
    "news2015 = []\n",
    "for i in range(len(dates)):\n",
    "    if dates[i][:4] == '2015':\n",
    "        news2015.append(news[i])"
   ]
  },
  {
   "cell_type": "code",
   "execution_count": 11,
   "metadata": {},
   "outputs": [
    {
     "data": {
      "text/plain": [
       "['Microsoft Corp said on Wednesday it will begin warning users of its Outlook.com email service when the company suspects that a government has been trying to hack into their accounts.',\n",
       " \"Greek Orthodox Church: Homosexuals are God's creation - the church doesn't reject people.\",\n",
       " 'Vladmir Putin officially dissolves Roscosmos, the Russian Space Agency and will restructure it as a state-run corporation starting January 1, 2016.',\n",
       " 'Donald Trump could be refused entry to the UK after the Home Secretary Theresa May said she will ban people that are non-conducive to the public good. The petition to ban him has over half million signatures.',\n",
       " 'Saudi Arabia says its ready to meet any additional oil demand. We will satisfy the demand of our customers. We no longer limit production. If there is demand, we will respond. We have the capacity to respond to demand, Saudi oil minister said.']"
      ]
     },
     "execution_count": 11,
     "metadata": {},
     "output_type": "execute_result"
    }
   ],
   "source": [
    "news2015[:5]"
   ]
  },
  {
   "cell_type": "code",
   "execution_count": 12,
   "metadata": {},
   "outputs": [],
   "source": [
    "# Extract words\n",
    "testwords = ' '.join([i.lower() for i in news2015]).split()"
   ]
  },
  {
   "cell_type": "code",
   "execution_count": 13,
   "metadata": {},
   "outputs": [],
   "source": [
    "# Calculate frequencies\n",
    "frequencies = []\n",
    "for i in set(testwords):\n",
    "    frequencies.append(testwords.count(i))"
   ]
  },
  {
   "cell_type": "code",
   "execution_count": 14,
   "metadata": {},
   "outputs": [],
   "source": [
    "# Unique words\n",
    "testwords = set(testwords)"
   ]
  },
  {
   "cell_type": "code",
   "execution_count": 15,
   "metadata": {},
   "outputs": [
    {
     "data": {
      "text/plain": [
       "[(5287, 'the'),\n",
       " (5045, 'to'),\n",
       " (4399, 'in'),\n",
       " (4323, 'of'),\n",
       " (2796, 'a'),\n",
       " (2266, 'and'),\n",
       " (1822, 'for'),\n",
       " (1582, 'on'),\n",
       " (1121, 'is'),\n",
       " (983, 'by'),\n",
       " (931, 'that'),\n",
       " (922, 'has'),\n",
       " (917, 'from'),\n",
       " (877, 'as'),\n",
       " (822, 'with'),\n",
       " (658, 'after'),\n",
       " (643, '-'),\n",
       " (636, 'says'),\n",
       " (621, 'at'),\n",
       " (614, 'have'),\n",
       " (608, 'be'),\n",
       " (555, 'are'),\n",
       " (549, 'new'),\n",
       " (529, 'over'),\n",
       " (501, 'an'),\n",
       " (480, 'will'),\n",
       " (477, 'its'),\n",
       " (465, 'it'),\n",
       " (460, 'us'),\n",
       " (456, 'isis'),\n",
       " (395, 'was'),\n",
       " (363, 'who'),\n",
       " (361, 'than'),\n",
       " (351, 'russian'),\n",
       " (346, 'more'),\n",
       " (345, 'not'),\n",
       " (337, 'against'),\n",
       " (335, 'russia'),\n",
       " (329, 'been'),\n",
       " (325, 'government'),\n",
       " (320, 'their'),\n",
       " (317, 'up'),\n",
       " (310, 'china'),\n",
       " (308, 'first'),\n",
       " (302, 'people'),\n",
       " (294, 'saudi'),\n",
       " (293, 'state'),\n",
       " (289, 'world'),\n",
       " (288, 'into'),\n",
       " (283, 'u.s.')]"
      ]
     },
     "execution_count": 15,
     "metadata": {},
     "output_type": "execute_result"
    }
   ],
   "source": [
    "# TOP-50\n",
    "yx = list(zip(frequencies, testwords))\n",
    "sorted(yx, reverse = True)[:50]"
   ]
  }
 ],
 "metadata": {
  "kernelspec": {
   "display_name": "Python 3",
   "language": "python",
   "name": "python3"
  },
  "language_info": {
   "codemirror_mode": {
    "name": "ipython",
    "version": 3
   },
   "file_extension": ".py",
   "mimetype": "text/x-python",
   "name": "python",
   "nbconvert_exporter": "python",
   "pygments_lexer": "ipython3",
   "version": "3.7.1"
  }
 },
 "nbformat": 4,
 "nbformat_minor": 2
}
